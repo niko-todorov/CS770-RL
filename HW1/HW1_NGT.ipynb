{
 "cells": [
  {
   "cell_type": "markdown",
   "metadata": {
    "id": "aLQfjvRZ6d1K"
   },
   "source": [
    "# Knapsack"
   ]
  },
  {
   "cell_type": "code",
   "execution_count": 8,
   "metadata": {
    "id": "l0v_SQwpeZTf",
    "ExecuteTime": {
     "end_time": "2024-02-26T20:24:11.905239400Z",
     "start_time": "2024-02-26T20:24:11.377130500Z"
    }
   },
   "outputs": [],
   "source": [
    "import numpy as np\n",
    "import random\n",
    "n = 100\n",
    "w_max = 250\n",
    "values = [random.randint(1,10) for _ in range(n)]\n",
    "weights = [random.randint(1,10) for _ in range(n)]"
   ]
  },
  {
   "cell_type": "code",
   "execution_count": 9,
   "metadata": {
    "id": "CtMrdljve1e1",
    "ExecuteTime": {
     "end_time": "2024-02-26T20:24:11.983815600Z",
     "start_time": "2024-02-26T20:24:11.408122100Z"
    }
   },
   "outputs": [],
   "source": [
    "def available_actions(state):\n",
    "  return [0,1]\n",
    "\n",
    "def reward(state, action):\n",
    "  if action == 0:\n",
    "    return 0\n",
    "  return values[state[0]]\n",
    "\n",
    "def next_state(state, action):\n",
    "  item_ind = state[0]\n",
    "  if action == 0:\n",
    "    return (item_ind+1, state[1])\n",
    "  if action == 1:\n",
    "    return (item_ind+1, state[1] - weights[item_ind])\n",
    "\n",
    "\n",
    "def terminal_state(state):\n",
    "  if state[1] < 0:\n",
    "    return True, (-1000000, -1)\n",
    "  if state[0] >= len(values):\n",
    "    return True, (0, -1)\n",
    "  else:\n",
    "    return False, ()\n",
    "\n",
    "cache = {}\n",
    "def bellman(state):\n",
    "  is_terminal, term_return = terminal_state(state)\n",
    "  if is_terminal:\n",
    "    return term_return\n",
    "  if state in cache:\n",
    "    return cache[state]\n",
    "  best_value = None\n",
    "  best_action = None\n",
    "  for action in available_actions(state):\n",
    "    action_value = reward(state, action) + bellman(next_state(state,action))[0]\n",
    "    if best_value is None or action_value > best_value:\n",
    "      best_value = action_value\n",
    "      best_action = action\n",
    "  cache[state] = (best_value, best_action)\n",
    "  return best_value, best_action"
   ]
  },
  {
   "cell_type": "code",
   "execution_count": 10,
   "metadata": {
    "id": "QoG_WxZa6imx",
    "ExecuteTime": {
     "end_time": "2024-02-26T20:24:12.318273Z",
     "start_time": "2024-02-26T20:24:11.437623400Z"
    }
   },
   "outputs": [],
   "source": [
    "start_state = (0, w_max)\n",
    "\n",
    "state = start_state\n",
    "\n",
    "actions = []\n",
    "for _ in range(n):\n",
    "  best_value, best_action = bellman(state)\n",
    "  actions.append(best_action)\n",
    "  state = next_state(state, best_action)"
   ]
  },
  {
   "cell_type": "code",
   "execution_count": 11,
   "metadata": {
    "colab": {
     "base_uri": "https://localhost:8080/"
    },
    "id": "UXXO8hSF6mA5",
    "outputId": "c92efca0-f62d-4995-a636-9a316645668e",
    "ExecuteTime": {
     "end_time": "2024-02-26T20:24:12.320265400Z",
     "start_time": "2024-02-26T20:24:11.576882100Z"
    }
   },
   "outputs": [
    {
     "data": {
      "text/plain": "array([1, 1, 0, 0, 1, 1, 1, 1, 0, 0, 0, 1, 1, 0, 0, 1, 0, 1, 1, 1, 1, 1,\n       0, 1, 1, 0, 1, 1, 0, 1, 0, 0, 1, 0, 0, 1, 1, 1, 1, 0, 1, 1, 1, 0,\n       1, 1, 1, 1, 1, 1, 0, 0, 1, 0, 1, 1, 0, 1, 0, 1, 1, 1, 1, 0, 1, 0,\n       0, 1, 1, 0, 0, 0, 1, 0, 0, 1, 0, 1, 1, 1, 1, 0, 0, 1, 1, 0, 1, 0,\n       0, 0, 0, 1, 1, 0, 0, 1, 0, 1, 1, 0])"
     },
     "execution_count": 11,
     "metadata": {},
     "output_type": "execute_result"
    }
   ],
   "source": [
    "np.array(actions)"
   ]
  },
  {
   "cell_type": "markdown",
   "metadata": {
    "id": "UvnrCYxlpJ2R"
   },
   "source": [
    "# Egg Drop"
   ]
  },
  {
   "cell_type": "code",
   "execution_count": 12,
   "metadata": {
    "id": "qgZyBvd-pMGp",
    "ExecuteTime": {
     "end_time": "2024-02-26T20:24:12.320931800Z",
     "start_time": "2024-02-26T20:24:11.595514300Z"
    }
   },
   "outputs": [],
   "source": [
    "def available_actions(state):\n",
    "  return range(1,state[0] + 1)\n",
    "\n",
    "def reward(state, action):\n",
    "  return -1\n",
    "\n",
    "def next_state(state, action):\n",
    "  surv_state = (state[0]-action, state[1])\n",
    "  break_state = (action-1, state[1]-1)\n",
    "  if bellman(surv_state)[0] < bellman(break_state)[0]:\n",
    "    return surv_state\n",
    "  else:\n",
    "    return break_state\n",
    "\n",
    "\n",
    "def terminal_state(state):\n",
    "  if state[0] == 0:\n",
    "    return True, (0, -1)\n",
    "  if state[1] == 0:\n",
    "    return True, (-10000000, -1)\n",
    "  else:\n",
    "    return False, ()\n",
    "\n",
    "cache = {}\n",
    "def bellman(state):\n",
    "  is_terminal, term_return = terminal_state(state)\n",
    "  if is_terminal:\n",
    "    return term_return\n",
    "  if state in cache:\n",
    "    return cache[state]\n",
    "  best_value = None\n",
    "  best_action = None\n",
    "  for action in available_actions(state):\n",
    "    action_value = reward(state, action) + bellman(next_state(state,action))[0]\n",
    "    if best_value is None or action_value > best_value:\n",
    "      best_value = action_value\n",
    "      best_action = action\n",
    "  cache[state] = (best_value, best_action)\n",
    "  return best_value, best_action"
   ]
  },
  {
   "cell_type": "code",
   "execution_count": 13,
   "metadata": {
    "colab": {
     "base_uri": "https://localhost:8080/"
    },
    "id": "BkyxW_Zqp3ks",
    "outputId": "b8090733-ff07-46d2-d447-172ff743ef6c",
    "ExecuteTime": {
     "end_time": "2024-02-26T20:24:12.321579100Z",
     "start_time": "2024-02-26T20:24:11.636537500Z"
    }
   },
   "outputs": [
    {
     "data": {
      "text/plain": "[((100, 5), 38),\n ((37, 4), 7),\n ((30, 4), 15),\n ((14, 3), 7),\n ((6, 2), 3),\n ((2, 1), 1),\n ((1, 1), 1)]"
     },
     "execution_count": 13,
     "metadata": {},
     "output_type": "execute_result"
    }
   ],
   "source": [
    "start_state = (100, 5)\n",
    "\n",
    "state = start_state\n",
    "\n",
    "state_actions = []\n",
    "while not terminal_state(state)[0]:\n",
    "  best_value, best_action = bellman(state)\n",
    "  state_actions.append((state, best_action))\n",
    "  state = next_state(state, best_action)\n",
    "\n",
    "state_actions"
   ]
  },
  {
   "cell_type": "markdown",
   "metadata": {
    "id": "P0udMGrR6n1x"
   },
   "source": [
    "# Stochastic Egg Drop"
   ]
  },
  {
   "cell_type": "code",
   "execution_count": 14,
   "metadata": {
    "id": "113kX8PP4qrK",
    "ExecuteTime": {
     "end_time": "2024-02-26T20:24:12.329931300Z",
     "start_time": "2024-02-26T20:24:11.777742800Z"
    }
   },
   "outputs": [],
   "source": [
    "def available_actions(state):\n",
    "  return range(1,state[0] + 1)\n",
    "\n",
    "def reward(state, action):\n",
    "  return -1\n",
    "\n",
    "def possible_states(state, action):\n",
    "  surv_state = (state[0] - action, state[1])\n",
    "  break_state = (action - 1, state[1] - 1)\n",
    "  p_break = action/state[0]\n",
    "  p_surv = 1 - p_break\n",
    "  return [(p_surv, surv_state),\n",
    "          (p_break, break_state)]\n",
    "\n",
    "def terminal_state(state):\n",
    "  if state[0] == 0:\n",
    "    return True, (0, -1)\n",
    "  if state[1] == 0:\n",
    "    return True, (-10000000, -1)\n",
    "  else:\n",
    "    return False, ()\n",
    "\n",
    "cache = {}\n",
    "def bellman(state):\n",
    "  is_terminal, term_return = terminal_state(state)\n",
    "  if is_terminal:\n",
    "    return term_return\n",
    "  if state in cache:\n",
    "    return cache[state]\n",
    "  best_value = None\n",
    "  best_action = None\n",
    "  for action in available_actions(state):\n",
    "    exp_action_value = 0\n",
    "    for p_state, next_state in possible_states(state, action):\n",
    "      exp_action_value += p_state*(reward(state, action) + bellman(next_state)[0])\n",
    "    if best_value is None or exp_action_value > best_value:\n",
    "      best_value = exp_action_value\n",
    "      best_action = action\n",
    "  cache[state] = (best_value, best_action)\n",
    "  return best_value, best_action"
   ]
  },
  {
   "cell_type": "code",
   "execution_count": 15,
   "metadata": {
    "colab": {
     "base_uri": "https://localhost:8080/"
    },
    "id": "vsV85pozgHzE",
    "outputId": "2130fe76-6cb1-419b-a230-a8d522c2ae3e",
    "ExecuteTime": {
     "end_time": "2024-02-26T20:24:12.462750800Z",
     "start_time": "2024-02-26T20:24:11.829989600Z"
    }
   },
   "outputs": [
    {
     "data": {
      "text/plain": "[((100, 5), 49),\n ((48, 4), 23),\n ((25, 4), 12),\n ((11, 3), 6),\n ((5, 3), 3),\n ((2, 3), 1)]"
     },
     "execution_count": 15,
     "metadata": {},
     "output_type": "execute_result"
    }
   ],
   "source": [
    "import random\n",
    "start_state = (100, 5)\n",
    "state = start_state\n",
    "state_actions = []\n",
    "while not terminal_state(state)[0]:\n",
    "  best_value, best_action = bellman(state)\n",
    "  state_actions.append((state, best_action))\n",
    "  states = possible_states(state, best_action)\n",
    "  state = random.choices([s[1] for s in states],\n",
    "                          weights=[s[0] for s in states])[0]\n",
    "#  if bellman(states[0][1])[0] < bellman(states[1][1])[1]:\n",
    "#    state = states[0][1]\n",
    "#  else:\n",
    "#    state = states[1][1]\n",
    "state_actions"
   ]
  },
  {
   "cell_type": "code",
   "execution_count": 16,
   "metadata": {
    "id": "2_YCYchV6V8v",
    "ExecuteTime": {
     "end_time": "2024-02-26T20:24:12.501193200Z",
     "start_time": "2024-02-26T20:24:11.982074400Z"
    }
   },
   "outputs": [],
   "source": [
    "start_state = (100, 5)\n",
    "\n",
    "state = start_state\n",
    "\n",
    "actions = []\n",
    "while not terminal_state(state)[0]:\n",
    "  best_value, best_action = bellman(state)\n",
    "  actions.append((state,best_action))\n",
    "  state = next_state(state, best_action)"
   ]
  },
  {
   "cell_type": "code",
   "execution_count": 17,
   "metadata": {
    "colab": {
     "base_uri": "https://localhost:8080/"
    },
    "id": "q8rSpyhw7ksH",
    "outputId": "f8b21b9f-0274-482f-c3e4-261fefb0cfe5",
    "ExecuteTime": {
     "end_time": "2024-02-26T20:24:12.502688500Z",
     "start_time": "2024-02-26T20:24:12.008825100Z"
    }
   },
   "outputs": [
    {
     "data": {
      "text/plain": "(0, 3)"
     },
     "execution_count": 17,
     "metadata": {},
     "output_type": "execute_result"
    }
   ],
   "source": [
    "state"
   ]
  },
  {
   "cell_type": "code",
   "execution_count": 18,
   "metadata": {
    "colab": {
     "base_uri": "https://localhost:8080/"
    },
    "id": "q5Jn-vx6d4MG",
    "outputId": "51a59447-c89e-4cd7-9694-dd70de11735e",
    "ExecuteTime": {
     "end_time": "2024-02-26T20:24:12.504443100Z",
     "start_time": "2024-02-26T20:24:12.036451800Z"
    }
   },
   "outputs": [
    {
     "data": {
      "text/plain": "[((100, 5), 49),\n ((51, 5), 26),\n ((25, 4), 12),\n ((13, 4), 6),\n ((7, 4), 3),\n ((4, 4), 2),\n ((2, 4), 1),\n ((1, 4), 1)]"
     },
     "execution_count": 18,
     "metadata": {},
     "output_type": "execute_result"
    }
   ],
   "source": [
    "actions"
   ]
  },
  {
   "cell_type": "markdown",
   "metadata": {
    "id": "f0Tc0Y7foF7u"
   },
   "source": [
    "# Optimal Replacement"
   ]
  },
  {
   "cell_type": "code",
   "execution_count": 19,
   "metadata": {
    "id": "idCqs7Rkd4-V",
    "ExecuteTime": {
     "end_time": "2024-02-26T20:24:12.505016700Z",
     "start_time": "2024-02-26T20:24:12.082345Z"
    }
   },
   "outputs": [],
   "source": [
    "# 0 maintain\n",
    "# 1 replace\n",
    "\n",
    "max_miles = 50\n",
    "gamma = 0.9\n",
    "threshold = 0.00001\n",
    "def available_actions(state):\n",
    "  return [0,1]\n",
    "\n",
    "def reward(state, action):\n",
    "  if action == 1:\n",
    "    return -15\n",
    "  else:\n",
    "    return -state\n",
    "\n",
    "def possible_states(state, action):\n",
    "  if action == 1:\n",
    "    state = 0\n",
    "  if state == max_miles-1:\n",
    "    return [(1, state+1)]\n",
    "  if state == max_miles:\n",
    "    return [(1, state)]\n",
    "  return [(0.5, state+1), (0.5, state+2)]\n",
    "\n",
    "values = [(0,0) for _ in range(max_miles + 1)]\n",
    "\n",
    "it = 0\n",
    "done = False\n",
    "while not done:\n",
    "  it += 1\n",
    "  new_values = [0 for _ in range(max_miles+1)]\n",
    "  for state in range(max_miles+1):\n",
    "    best_value = None\n",
    "    best_action = None\n",
    "    for action in available_actions(state):\n",
    "      exp_action_value = 0\n",
    "      for p_state, next_state in possible_states(state, action):\n",
    "        exp_action_value += p_state*(reward(state, action) + gamma*values[next_state][0])\n",
    "      if best_value is None or exp_action_value > best_value:\n",
    "        best_value = exp_action_value\n",
    "        best_action = action\n",
    "    new_values[state] = best_value, best_action\n",
    "  max_change = max(abs(v[0] - new_v[0]) for v,new_v in zip(values, new_values))\n",
    "  if max_change < threshold:\n",
    "    done = True\n",
    "  values = new_values\n"
   ]
  },
  {
   "cell_type": "code",
   "execution_count": 20,
   "metadata": {
    "colab": {
     "base_uri": "https://localhost:8080/"
    },
    "id": "pTVpF2nRoHA8",
    "outputId": "f221e4c0-5208-4ea3-d188-e9eba4738302",
    "ExecuteTime": {
     "end_time": "2024-02-26T20:24:12.505850200Z",
     "start_time": "2024-02-26T20:24:12.170051Z"
    }
   },
   "outputs": [
    {
     "data": {
      "text/plain": "[(-47.898352309227604, 0),\n (-51.596584791667766, 0),\n (-54.844217151267486, 0),\n (-57.59265697484717, 0),\n (-59.83895572813033, 0),\n (-61.47807880501428, 0),\n (-62.60850851321201, 0),\n (-62.898352309227604, 1),\n (-62.898352309227604, 1),\n (-62.898352309227604, 1),\n (-62.898352309227604, 1),\n (-62.898352309227604, 1),\n (-62.898352309227604, 1),\n (-62.898352309227604, 1),\n (-62.898352309227604, 1),\n (-62.898352309227604, 1),\n (-62.898352309227604, 1),\n (-62.898352309227604, 1),\n (-62.898352309227604, 1),\n (-62.898352309227604, 1),\n (-62.898352309227604, 1),\n (-62.898352309227604, 1),\n (-62.898352309227604, 1),\n (-62.898352309227604, 1),\n (-62.898352309227604, 1),\n (-62.898352309227604, 1),\n (-62.898352309227604, 1),\n (-62.898352309227604, 1),\n (-62.898352309227604, 1),\n (-62.898352309227604, 1),\n (-62.898352309227604, 1),\n (-62.898352309227604, 1),\n (-62.898352309227604, 1),\n (-62.898352309227604, 1),\n (-62.898352309227604, 1),\n (-62.898352309227604, 1),\n (-62.898352309227604, 1),\n (-62.898352309227604, 1),\n (-62.898352309227604, 1),\n (-62.898352309227604, 1),\n (-62.898352309227604, 1),\n (-62.898352309227604, 1),\n (-62.898352309227604, 1),\n (-62.898352309227604, 1),\n (-62.898352309227604, 1),\n (-62.898352309227604, 1),\n (-62.898352309227604, 1),\n (-62.898352309227604, 1),\n (-62.898352309227604, 1),\n (-62.898352309227604, 1),\n (-62.898352309227604, 1)]"
     },
     "execution_count": 20,
     "metadata": {},
     "output_type": "execute_result"
    }
   ],
   "source": [
    "values"
   ]
  },
  {
   "cell_type": "markdown",
   "metadata": {
    "id": "Mr0-yAk4oiXV"
   },
   "source": [
    "# Optimal Replacement Policy Iteration"
   ]
  },
  {
   "cell_type": "code",
   "execution_count": 21,
   "metadata": {
    "id": "q5cB3HtCrhTz",
    "ExecuteTime": {
     "end_time": "2024-02-26T20:24:12.506404100Z",
     "start_time": "2024-02-26T20:24:12.204803200Z"
    }
   },
   "outputs": [],
   "source": [
    "max_miles = 50\n",
    "gamma = 0.9\n",
    "threshold = 0.00001\n",
    "def available_actions(state):\n",
    "  return [0,1]\n",
    "\n",
    "def reward(state, action):\n",
    "  if action == 1:\n",
    "    return -15\n",
    "  else:\n",
    "    return -state\n",
    "\n",
    "def possible_states(state, action):\n",
    "  if action == 1:\n",
    "    state = 0\n",
    "  if state == max_miles-1:\n",
    "    return [(1, state+1)]\n",
    "  if state == max_miles:\n",
    "    return [(1, state)]\n",
    "  return [(0.5, state+1), (0.5, state+2)]\n",
    "\n",
    "policy = [0 for _ in range(max_miles + 1)]\n",
    "policy_value = [0 for _ in range(max_miles + 1)]"
   ]
  },
  {
   "cell_type": "code",
   "execution_count": 22,
   "metadata": {
    "id": "FWQ9-GzuoiCt",
    "ExecuteTime": {
     "end_time": "2024-02-26T20:24:12.506974100Z",
     "start_time": "2024-02-26T20:24:12.233707300Z"
    }
   },
   "outputs": [],
   "source": [
    "# Policy Evaluation\n",
    "for _ in range(100):\n",
    "  for miles in range(max_miles + 1):\n",
    "    action = policy[miles]\n",
    "    value_s = 0\n",
    "    for prob_s, s_prime in possible_states(miles, action):\n",
    "      value_s += prob_s*(reward(miles, action) + gamma*policy_value[s_prime])\n",
    "    policy_value[miles] = value_s\n",
    "\n",
    "# Policy Update\n",
    "for miles in range(max_miles + 1):\n",
    "  best_value = None\n",
    "  best_action = None\n",
    "  for action in available_actions(miles):\n",
    "    value_s = 0\n",
    "    for prob_s, s_prime in possible_states(miles, action):\n",
    "      value_s += prob_s*(reward(miles, action) + gamma*policy_value[s_prime])\n",
    "    if best_value is None or value_s > best_value:\n",
    "      best_value = value_s\n",
    "      best_action = action\n",
    "  policy[miles] = best_action\n"
   ]
  },
  {
   "cell_type": "code",
   "execution_count": 23,
   "metadata": {
    "colab": {
     "base_uri": "https://localhost:8080/"
    },
    "id": "kWIbiUO1rAs_",
    "outputId": "987bb804-a191-4241-d601-d74e54392217",
    "ExecuteTime": {
     "end_time": "2024-02-26T20:24:12.529162700Z",
     "start_time": "2024-02-26T20:24:12.276198300Z"
    }
   },
   "outputs": [
    {
     "data": {
      "text/plain": "[-130.8738215585101,\n -140.57633488882237,\n -150.25733095218752,\n -159.91525340062745,\n -169.5484333152212,\n -179.1550810638273,\n -188.73327756987396,\n -198.28096494961872,\n -207.79593647219983,\n -217.27582579349593,\n -226.71809541126896,\n -236.120024285265,\n -245.47869456187567,\n -254.79097733858964,\n -264.05351739878824,\n -273.2627168423985,\n -282.4147175325629,\n -291.5053822726436,\n -300.53027462181706,\n -309.4846372506007,\n -318.36336873109144,\n -327.1609986478975,\n -335.8716609099597,\n -344.48906512968887,\n -353.0064659367647,\n -361.41663006242027,\n -369.7118010635999,\n -377.883661452766,\n -385.9232921773324,\n -393.8211289842461,\n -401.56691600970237,\n -409.14965522183195,\n -416.5575538440495,\n -423.77796458212026,\n -430.79732856008843,\n -437.6010995556107,\n -444.1736929555734,\n -450.498368434549,\n -456.5572338443793,\n -462.33098061005035,\n -467.7991569773356,\n -472.939306755986,\n -477.7284377935251,\n -482.13963959743137,\n -486.14872898805635,\n -489.72008805055634,\n -492.8355943005563,\n -495.4342193005564,\n -497.53671930055634,\n -498.98671930055633,\n -499.98671930055633]"
     },
     "execution_count": 23,
     "metadata": {},
     "output_type": "execute_result"
    }
   ],
   "source": [
    "policy_value"
   ]
  },
  {
   "cell_type": "markdown",
   "metadata": {
    "id": "evnHjH0x74YX"
   },
   "source": [
    "# RLlib Optimal Replacement"
   ]
  },
  {
   "cell_type": "code",
   "execution_count": 24,
   "metadata": {
    "colab": {
     "base_uri": "https://localhost:8080/"
    },
    "id": "qGQvDfWstNuP",
    "outputId": "119c65bb-f9cc-43c8-f02d-51ca48186db8",
    "ExecuteTime": {
     "end_time": "2024-02-26T20:27:52.950059600Z",
     "start_time": "2024-02-26T20:24:12.303033800Z"
    }
   },
   "outputs": [
    {
     "name": "stdout",
     "output_type": "stream",
     "text": [
      "Collecting ray[rllib]\n",
      "  Downloading ray-2.9.3-cp310-cp310-win_amd64.whl.metadata (14 kB)\n",
      "Requirement already satisfied: click>=7.0 in c:\\python310\\lib\\site-packages (from ray[rllib]) (8.1.3)\n",
      "Requirement already satisfied: filelock in c:\\python310\\lib\\site-packages (from ray[rllib]) (3.9.0)\n",
      "Requirement already satisfied: jsonschema in c:\\python310\\lib\\site-packages (from ray[rllib]) (4.17.3)\n",
      "Collecting msgpack<2.0.0,>=1.0.0 (from ray[rllib])\n",
      "  Downloading msgpack-1.0.7-cp310-cp310-win_amd64.whl.metadata (9.4 kB)\n",
      "Requirement already satisfied: packaging in c:\\python310\\lib\\site-packages (from ray[rllib]) (21.3)\n",
      "Requirement already satisfied: protobuf!=3.19.5,>=3.15.3 in c:\\python310\\lib\\site-packages (from ray[rllib]) (3.19.6)\n",
      "Requirement already satisfied: pyyaml in c:\\python310\\lib\\site-packages (from ray[rllib]) (6.0)\n",
      "Requirement already satisfied: aiosignal in c:\\python310\\lib\\site-packages (from ray[rllib]) (1.3.1)\n",
      "Requirement already satisfied: frozenlist in c:\\python310\\lib\\site-packages (from ray[rllib]) (1.3.3)\n",
      "Requirement already satisfied: requests in c:\\python310\\lib\\site-packages (from ray[rllib]) (2.26.0)\n",
      "Requirement already satisfied: pandas in c:\\python310\\lib\\site-packages (from ray[rllib]) (2.1.1)\n",
      "Requirement already satisfied: tensorboardX>=1.9 in c:\\python310\\lib\\site-packages (from ray[rllib]) (2.5.1)\n",
      "Collecting pyarrow<7.0.0,>=6.0.1 (from ray[rllib])\n",
      "  Downloading pyarrow-6.0.1-cp310-cp310-win_amd64.whl.metadata (2.9 kB)\n",
      "Requirement already satisfied: fsspec in c:\\python310\\lib\\site-packages (from ray[rllib]) (2022.11.0)\n",
      "Requirement already satisfied: dm-tree in c:\\python310\\lib\\site-packages (from ray[rllib]) (0.1.8)\n",
      "Requirement already satisfied: gymnasium==0.28.1 in c:\\python310\\lib\\site-packages (from ray[rllib]) (0.28.1)\n",
      "Collecting lz4 (from ray[rllib])\n",
      "  Downloading lz4-4.3.3-cp310-cp310-win_amd64.whl.metadata (3.8 kB)\n",
      "Collecting scikit-image (from ray[rllib])\n",
      "  Downloading scikit_image-0.22.0-cp310-cp310-win_amd64.whl.metadata (13 kB)\n",
      "Requirement already satisfied: scipy in c:\\python310\\lib\\site-packages (from ray[rllib]) (1.11.3)\n",
      "Collecting typer (from ray[rllib])\n",
      "  Downloading typer-0.9.0-py3-none-any.whl.metadata (14 kB)\n",
      "Requirement already satisfied: rich in c:\\python310\\lib\\site-packages (from ray[rllib]) (13.4.1)\n",
      "Requirement already satisfied: numpy>=1.21.0 in c:\\python310\\lib\\site-packages (from gymnasium==0.28.1->ray[rllib]) (1.26.1)\n",
      "Requirement already satisfied: jax-jumpy>=1.0.0 in c:\\python310\\lib\\site-packages (from gymnasium==0.28.1->ray[rllib]) (1.0.0)\n",
      "Requirement already satisfied: cloudpickle>=1.2.0 in c:\\python310\\lib\\site-packages (from gymnasium==0.28.1->ray[rllib]) (1.6.0)\n",
      "Requirement already satisfied: typing-extensions>=4.3.0 in c:\\python310\\lib\\site-packages (from gymnasium==0.28.1->ray[rllib]) (4.3.0)\n",
      "Requirement already satisfied: farama-notifications>=0.0.1 in c:\\python310\\lib\\site-packages (from gymnasium==0.28.1->ray[rllib]) (0.0.4)\n",
      "Requirement already satisfied: colorama in c:\\python310\\lib\\site-packages (from click>=7.0->ray[rllib]) (0.4.6)\n",
      "Requirement already satisfied: attrs>=17.4.0 in c:\\python310\\lib\\site-packages (from jsonschema->ray[rllib]) (21.4.0)\n",
      "Requirement already satisfied: pyrsistent!=0.17.0,!=0.17.1,!=0.17.2,>=0.14.0 in c:\\python310\\lib\\site-packages (from jsonschema->ray[rllib]) (0.19.3)\n",
      "Requirement already satisfied: pyparsing!=3.0.5,>=2.0.2 in c:\\python310\\lib\\site-packages (from packaging->ray[rllib]) (3.0.9)\n",
      "Requirement already satisfied: python-dateutil>=2.8.2 in c:\\python310\\lib\\site-packages (from pandas->ray[rllib]) (2.8.2)\n",
      "Requirement already satisfied: pytz>=2020.1 in c:\\python310\\lib\\site-packages (from pandas->ray[rllib]) (2022.1)\n",
      "Requirement already satisfied: tzdata>=2022.1 in c:\\python310\\lib\\site-packages (from pandas->ray[rllib]) (2022.1)\n",
      "Requirement already satisfied: urllib3<1.27,>=1.21.1 in c:\\python310\\lib\\site-packages (from requests->ray[rllib]) (1.26.10)\n",
      "Requirement already satisfied: certifi>=2017.4.17 in c:\\python310\\lib\\site-packages (from requests->ray[rllib]) (2022.6.15)\n",
      "Requirement already satisfied: charset-normalizer~=2.0.0 in c:\\python310\\lib\\site-packages (from requests->ray[rllib]) (2.0.12)\n",
      "Requirement already satisfied: idna<4,>=2.5 in c:\\python310\\lib\\site-packages (from requests->ray[rllib]) (3.3)\n",
      "Requirement already satisfied: markdown-it-py<3.0.0,>=2.2.0 in c:\\python310\\lib\\site-packages (from rich->ray[rllib]) (2.2.0)\n",
      "Requirement already satisfied: pygments<3.0.0,>=2.13.0 in c:\\python310\\lib\\site-packages (from rich->ray[rllib]) (2.13.0)\n",
      "Requirement already satisfied: networkx>=2.8 in c:\\python310\\lib\\site-packages (from scikit-image->ray[rllib]) (2.8.8)\n",
      "Collecting pillow>=9.0.1 (from scikit-image->ray[rllib])\n",
      "  Downloading pillow-10.2.0-cp310-cp310-win_amd64.whl.metadata (9.9 kB)\n",
      "Collecting imageio>=2.27 (from scikit-image->ray[rllib])\n",
      "  Downloading imageio-2.34.0-py3-none-any.whl.metadata (4.9 kB)\n",
      "Collecting tifffile>=2022.8.12 (from scikit-image->ray[rllib])\n",
      "  Downloading tifffile-2024.2.12-py3-none-any.whl.metadata (31 kB)\n",
      "Collecting lazy_loader>=0.3 (from scikit-image->ray[rllib])\n",
      "  Downloading lazy_loader-0.3-py3-none-any.whl.metadata (4.3 kB)\n",
      "Requirement already satisfied: mdurl~=0.1 in c:\\python310\\lib\\site-packages (from markdown-it-py<3.0.0,>=2.2.0->rich->ray[rllib]) (0.1.2)\n",
      "Requirement already satisfied: six>=1.5 in c:\\python310\\lib\\site-packages (from python-dateutil>=2.8.2->pandas->ray[rllib]) (1.16.0)\n",
      "Downloading msgpack-1.0.7-cp310-cp310-win_amd64.whl (222 kB)\n",
      "   ---------------------------------------- 0.0/222.8 kB ? eta -:--:--\n",
      "   ------------------------------------- - 215.0/222.8 kB 12.8 MB/s eta 0:00:01\n",
      "   ---------------------------------------- 222.8/222.8 kB 3.4 MB/s eta 0:00:00\n",
      "Downloading pyarrow-6.0.1-cp310-cp310-win_amd64.whl (15.5 MB)\n",
      "   ---------------------------------------- 0.0/15.5 MB ? eta -:--:--\n",
      "   - -------------------------------------- 0.6/15.5 MB 12.4 MB/s eta 0:00:02\n",
      "   --- ------------------------------------ 1.2/15.5 MB 15.8 MB/s eta 0:00:01\n",
      "   ---- ----------------------------------- 1.9/15.5 MB 13.3 MB/s eta 0:00:02\n",
      "   ------ --------------------------------- 2.6/15.5 MB 13.7 MB/s eta 0:00:01\n",
      "   -------- ------------------------------- 3.2/15.5 MB 13.8 MB/s eta 0:00:01\n",
      "   ---------- ----------------------------- 3.9/15.5 MB 14.0 MB/s eta 0:00:01\n",
      "   ----------- ---------------------------- 4.6/15.5 MB 14.1 MB/s eta 0:00:01\n",
      "   ------------- -------------------------- 5.3/15.5 MB 14.1 MB/s eta 0:00:01\n",
      "   --------------- ------------------------ 6.1/15.5 MB 14.3 MB/s eta 0:00:01\n",
      "   ----------------- ---------------------- 6.7/15.5 MB 14.3 MB/s eta 0:00:01\n",
      "   ------------------ --------------------- 7.1/15.5 MB 13.7 MB/s eta 0:00:01\n",
      "   -------------------- ------------------- 7.8/15.5 MB 13.9 MB/s eta 0:00:01\n",
      "   ---------------------- ----------------- 8.7/15.5 MB 14.3 MB/s eta 0:00:01\n",
      "   ------------------------ --------------- 9.5/15.5 MB 14.4 MB/s eta 0:00:01\n",
      "   -------------------------- ------------- 10.2/15.5 MB 14.4 MB/s eta 0:00:01\n",
      "   ---------------------------- ----------- 10.9/15.5 MB 14.6 MB/s eta 0:00:01\n",
      "   ----------------------------- ---------- 11.5/15.5 MB 14.6 MB/s eta 0:00:01\n",
      "   ------------------------------- -------- 12.3/15.5 MB 14.6 MB/s eta 0:00:01\n",
      "   --------------------------------- ------ 13.2/15.5 MB 14.6 MB/s eta 0:00:01\n",
      "   ----------------------------------- ---- 13.8/15.5 MB 14.2 MB/s eta 0:00:01\n",
      "   ------------------------------------- -- 14.6/15.5 MB 14.6 MB/s eta 0:00:01\n",
      "   ---------------------------------------  15.2/15.5 MB 14.2 MB/s eta 0:00:01\n",
      "   ---------------------------------------  15.5/15.5 MB 14.6 MB/s eta 0:00:01\n",
      "   ---------------------------------------  15.5/15.5 MB 14.6 MB/s eta 0:00:01\n",
      "   ---------------------------------------- 15.5/15.5 MB 12.8 MB/s eta 0:00:00\n",
      "Downloading lz4-4.3.3-cp310-cp310-win_amd64.whl (99 kB)\n",
      "   ---------------------------------------- 0.0/99.8 kB ? eta -:--:--\n",
      "   ---------------------------------------- 99.8/99.8 kB 1.9 MB/s eta 0:00:00\n",
      "Downloading ray-2.9.3-cp310-cp310-win_amd64.whl (25.2 MB)\n",
      "   ---------------------------------------- 0.0/25.2 MB ? eta -:--:--\n",
      "   - -------------------------------------- 0.7/25.2 MB 20.2 MB/s eta 0:00:02\n",
      "   -- ------------------------------------- 1.6/25.2 MB 17.4 MB/s eta 0:00:02\n",
      "   --- ------------------------------------ 2.4/25.2 MB 16.6 MB/s eta 0:00:02\n",
      "   ---- ----------------------------------- 3.0/25.2 MB 16.0 MB/s eta 0:00:02\n",
      "   ----- ---------------------------------- 3.7/25.2 MB 15.6 MB/s eta 0:00:02\n",
      "   ------- -------------------------------- 4.4/25.2 MB 15.7 MB/s eta 0:00:02\n",
      "   -------- ------------------------------- 5.1/25.2 MB 15.5 MB/s eta 0:00:02\n",
      "   --------- ------------------------------ 5.8/25.2 MB 15.5 MB/s eta 0:00:02\n",
      "   ---------- ----------------------------- 6.4/25.2 MB 15.1 MB/s eta 0:00:02\n",
      "   ----------- ---------------------------- 7.1/25.2 MB 15.0 MB/s eta 0:00:02\n",
      "   ------------ --------------------------- 7.7/25.2 MB 14.8 MB/s eta 0:00:02\n",
      "   ------------- -------------------------- 8.4/25.2 MB 14.5 MB/s eta 0:00:02\n",
      "   -------------- ------------------------- 9.1/25.2 MB 14.6 MB/s eta 0:00:02\n",
      "   --------------- ------------------------ 9.9/25.2 MB 14.7 MB/s eta 0:00:02\n",
      "   ----------------- ---------------------- 10.8/25.2 MB 14.9 MB/s eta 0:00:01\n",
      "   ------------------ --------------------- 11.6/25.2 MB 14.5 MB/s eta 0:00:01\n",
      "   ------------------- -------------------- 12.1/25.2 MB 14.2 MB/s eta 0:00:01\n",
      "   -------------------- ------------------- 12.8/25.2 MB 14.2 MB/s eta 0:00:01\n",
      "   --------------------- ------------------ 13.5/25.2 MB 14.2 MB/s eta 0:00:01\n",
      "   ---------------------- ----------------- 14.2/25.2 MB 14.6 MB/s eta 0:00:01\n",
      "   ----------------------- ---------------- 14.9/25.2 MB 14.2 MB/s eta 0:00:01\n",
      "   ------------------------ --------------- 15.6/25.2 MB 14.2 MB/s eta 0:00:01\n",
      "   ------------------------- -------------- 16.3/25.2 MB 14.6 MB/s eta 0:00:01\n",
      "   --------------------------- ------------ 17.2/25.2 MB 14.6 MB/s eta 0:00:01\n",
      "   ---------------------------- ----------- 17.9/25.2 MB 14.6 MB/s eta 0:00:01\n",
      "   ----------------------------- ---------- 18.8/25.2 MB 14.5 MB/s eta 0:00:01\n",
      "   ------------------------------- -------- 19.7/25.2 MB 14.6 MB/s eta 0:00:01\n",
      "   -------------------------------- ------- 20.5/25.2 MB 14.6 MB/s eta 0:00:01\n",
      "   --------------------------------- ------ 21.0/25.2 MB 14.2 MB/s eta 0:00:01\n",
      "   ---------------------------------- ----- 21.7/25.2 MB 14.6 MB/s eta 0:00:01\n",
      "   ----------------------------------- ---- 22.4/25.2 MB 14.9 MB/s eta 0:00:01\n",
      "   ------------------------------------ --- 23.0/25.2 MB 15.2 MB/s eta 0:00:01\n",
      "   ------------------------------------- -- 23.8/25.2 MB 14.6 MB/s eta 0:00:01\n",
      "   -------------------------------------- - 24.4/25.2 MB 14.2 MB/s eta 0:00:01\n",
      "   ---------------------------------------  25.1/25.2 MB 14.6 MB/s eta 0:00:01\n",
      "   ---------------------------------------  25.2/25.2 MB 14.6 MB/s eta 0:00:01\n",
      "   ---------------------------------------  25.2/25.2 MB 14.6 MB/s eta 0:00:01\n",
      "   ---------------------------------------  25.2/25.2 MB 14.6 MB/s eta 0:00:01\n",
      "   ---------------------------------------- 25.2/25.2 MB 11.9 MB/s eta 0:00:00\n",
      "Downloading scikit_image-0.22.0-cp310-cp310-win_amd64.whl (24.5 MB)\n",
      "   ---------------------------------------- 0.0/24.5 MB ? eta -:--:--\n",
      "   - -------------------------------------- 1.0/24.5 MB 20.9 MB/s eta 0:00:02\n",
      "   -- ------------------------------------- 1.6/24.5 MB 17.4 MB/s eta 0:00:02\n",
      "   --- ------------------------------------ 2.3/24.5 MB 16.4 MB/s eta 0:00:02\n",
      "   ----- ---------------------------------- 3.1/24.5 MB 16.6 MB/s eta 0:00:02\n",
      "   ------ --------------------------------- 4.2/24.5 MB 16.9 MB/s eta 0:00:02\n",
      "   -------- ------------------------------- 5.0/24.5 MB 16.0 MB/s eta 0:00:02\n",
      "   --------- ------------------------------ 5.7/24.5 MB 15.9 MB/s eta 0:00:02\n",
      "   --------- ------------------------------ 6.0/24.5 MB 15.3 MB/s eta 0:00:02\n",
      "   ----------- ---------------------------- 6.9/24.5 MB 15.2 MB/s eta 0:00:02\n",
      "   ------------ --------------------------- 7.9/24.5 MB 15.7 MB/s eta 0:00:02\n",
      "   -------------- ------------------------- 8.7/24.5 MB 15.5 MB/s eta 0:00:02\n",
      "   --------------- ------------------------ 9.4/24.5 MB 15.4 MB/s eta 0:00:01\n",
      "   ---------------- ----------------------- 10.0/24.5 MB 15.2 MB/s eta 0:00:01\n",
      "   ----------------- ---------------------- 10.6/24.5 MB 14.9 MB/s eta 0:00:01\n",
      "   ------------------ --------------------- 11.5/24.5 MB 14.6 MB/s eta 0:00:01\n",
      "   ------------------- -------------------- 12.2/24.5 MB 14.6 MB/s eta 0:00:01\n",
      "   -------------------- ------------------- 12.9/24.5 MB 14.9 MB/s eta 0:00:01\n",
      "   --------------------- ------------------ 13.4/24.5 MB 14.9 MB/s eta 0:00:01\n",
      "   ---------------------- ----------------- 14.1/24.5 MB 14.2 MB/s eta 0:00:01\n",
      "   ------------------------ --------------- 14.8/24.5 MB 14.2 MB/s eta 0:00:01\n",
      "   ------------------------- -------------- 15.5/24.5 MB 14.2 MB/s eta 0:00:01\n",
      "   -------------------------- ------------- 16.2/24.5 MB 14.2 MB/s eta 0:00:01\n",
      "   --------------------------- ------------ 16.8/24.5 MB 14.6 MB/s eta 0:00:01\n",
      "   --------------------------- ------------ 17.0/24.5 MB 13.9 MB/s eta 0:00:01\n",
      "   ---------------------------- ----------- 17.7/24.5 MB 13.6 MB/s eta 0:00:01\n",
      "   ----------------------------- ---------- 17.9/24.5 MB 13.6 MB/s eta 0:00:01\n",
      "   ------------------------------ --------- 18.6/24.5 MB 13.1 MB/s eta 0:00:01\n",
      "   ------------------------------ --------- 19.0/24.5 MB 13.1 MB/s eta 0:00:01\n",
      "   ------------------------------- -------- 19.4/24.5 MB 12.4 MB/s eta 0:00:01\n",
      "   -------------------------------- ------- 19.8/24.5 MB 12.1 MB/s eta 0:00:01\n",
      "   --------------------------------- ------ 20.5/24.5 MB 12.4 MB/s eta 0:00:01\n",
      "   ----------------------------------- ---- 21.5/24.5 MB 12.4 MB/s eta 0:00:01\n",
      "   ------------------------------------ --- 22.4/24.5 MB 12.6 MB/s eta 0:00:01\n",
      "   -------------------------------------- - 23.3/24.5 MB 12.8 MB/s eta 0:00:01\n",
      "   ---------------------------------------  24.0/24.5 MB 13.1 MB/s eta 0:00:01\n",
      "   ---------------------------------------  24.5/24.5 MB 13.1 MB/s eta 0:00:01\n",
      "   ---------------------------------------  24.5/24.5 MB 13.1 MB/s eta 0:00:01\n",
      "   ---------------------------------------  24.5/24.5 MB 13.1 MB/s eta 0:00:01\n",
      "   ---------------------------------------- 24.5/24.5 MB 10.9 MB/s eta 0:00:00\n",
      "Downloading typer-0.9.0-py3-none-any.whl (45 kB)\n",
      "   ---------------------------------------- 0.0/45.9 kB ? eta -:--:--\n",
      "   ---------------------------------------- 45.9/45.9 kB 757.9 kB/s eta 0:00:00\n",
      "Downloading imageio-2.34.0-py3-none-any.whl (313 kB)\n",
      "   ---------------------------------------- 0.0/313.4 kB ? eta -:--:--\n",
      "   ---------------------------------------  307.2/313.4 kB ? eta -:--:--\n",
      "   ---------------------------------------- 313.4/313.4 kB 6.5 MB/s eta 0:00:00\n",
      "Downloading lazy_loader-0.3-py3-none-any.whl (9.1 kB)\n",
      "Downloading pillow-10.2.0-cp310-cp310-win_amd64.whl (2.6 MB)\n",
      "   ---------------------------------------- 0.0/2.6 MB ? eta -:--:--\n",
      "   ------------- -------------------------- 0.9/2.6 MB 18.7 MB/s eta 0:00:01\n",
      "   ------------------------ --------------- 1.6/2.6 MB 17.1 MB/s eta 0:00:01\n",
      "   ----------------------------------- ---- 2.3/2.6 MB 16.5 MB/s eta 0:00:01\n",
      "   ---------------------------------------  2.6/2.6 MB 16.7 MB/s eta 0:00:01\n",
      "   ---------------------------------------- 2.6/2.6 MB 11.9 MB/s eta 0:00:00\n",
      "Downloading tifffile-2024.2.12-py3-none-any.whl (224 kB)\n",
      "   ---------------------------------------- 0.0/224.5 kB ? eta -:--:--\n",
      "   -------------------------------------- - 215.0/224.5 kB ? eta -:--:--\n",
      "   ---------------------------------------- 224.5/224.5 kB 6.9 MB/s eta 0:00:00\n",
      "Installing collected packages: tifffile, pyarrow, pillow, msgpack, lz4, lazy_loader, typer, ray, imageio, scikit-image\n",
      "  Attempting uninstall: tifffile\n",
      "    Found existing installation: tifffile 2021.4.8\n",
      "    Uninstalling tifffile-2021.4.8:\n",
      "      Successfully uninstalled tifffile-2021.4.8\n",
      "  Attempting uninstall: pyarrow\n",
      "    Found existing installation: pyarrow 10.0.1\n",
      "    Uninstalling pyarrow-10.0.1:\n",
      "      Successfully uninstalled pyarrow-10.0.1\n",
      "  Attempting uninstall: pillow\n",
      "    Found existing installation: Pillow 8.4.0\n",
      "    Uninstalling Pillow-8.4.0:\n",
      "      Successfully uninstalled Pillow-8.4.0\n",
      "Successfully installed imageio-2.34.0 lazy_loader-0.3 lz4-4.3.3 msgpack-1.0.7 pillow-10.2.0 pyarrow-6.0.1 ray-2.9.3 scikit-image-0.22.0 tifffile-2024.2.12 typer-0.9.0\n"
     ]
    },
    {
     "name": "stderr",
     "output_type": "stream",
     "text": [
      "WARNING: Ignoring invalid distribution - (c:\\python310\\lib\\site-packages)\n",
      "WARNING: Ignoring invalid distribution -ensorflow-intel (c:\\python310\\lib\\site-packages)\n",
      "WARNING: Ignoring invalid distribution -rotobuf (c:\\python310\\lib\\site-packages)\n",
      "WARNING: Ignoring invalid distribution - (c:\\python310\\lib\\site-packages)\n",
      "WARNING: Ignoring invalid distribution -ensorflow-intel (c:\\python310\\lib\\site-packages)\n",
      "WARNING: Ignoring invalid distribution -rotobuf (c:\\python310\\lib\\site-packages)\n",
      "  WARNING: Failed to remove contents in a temporary directory 'C:\\Python310\\Lib\\site-packages\\~yarrow'.\n",
      "  You can safely remove it manually.\n",
      "ERROR: pip's dependency resolver does not currently take into account all the packages that are installed. This behaviour is the source of the following dependency conflicts.\n",
      "diffusers 0.6.0 requires Pillow<10.0, but you have pillow 10.2.0 which is incompatible.\n",
      "WARNING: There was an error checking the latest version of pip.\n"
     ]
    }
   ],
   "source": [
    "!pip install ray[rllib]"
   ]
  },
  {
   "cell_type": "code",
   "execution_count": 33,
   "metadata": {
    "id": "Q21DxZMd53no",
    "ExecuteTime": {
     "end_time": "2024-02-26T20:29:07.768361800Z",
     "start_time": "2024-02-26T20:29:07.752640100Z"
    }
   },
   "outputs": [],
   "source": [
    "import gymnasium as gym\n",
    "from gymnasium import spaces, vector\n",
    "import numpy as np\n",
    "from scipy.stats import binom, nbinom, beta, poisson, gamma, norm, geom"
   ]
  },
  {
   "cell_type": "code",
   "execution_count": 34,
   "metadata": {
    "id": "1qq8vTYSA6JE",
    "ExecuteTime": {
     "end_time": "2024-02-26T20:29:12.717680500Z",
     "start_time": "2024-02-26T20:29:12.690023500Z"
    }
   },
   "outputs": [],
   "source": [
    "import random"
   ]
  },
  {
   "cell_type": "code",
   "execution_count": 35,
   "metadata": {
    "id": "_RSUqYQr8Ak6",
    "ExecuteTime": {
     "end_time": "2024-02-26T20:29:15.111314800Z",
     "start_time": "2024-02-26T20:29:15.069191400Z"
    }
   },
   "outputs": [],
   "source": [
    "def available_actions(state):\n",
    "  return [0,1]\n",
    "\n",
    "def reward(state, action):\n",
    "  if action == 1:\n",
    "    return -15\n",
    "  else:\n",
    "    return -state\n",
    "\n",
    "def possible_states(state, action):\n",
    "  if action == 1:\n",
    "    state = 0\n",
    "  if state == max_miles-1:\n",
    "    return [(1, state+1)]\n",
    "  if state == max_miles:\n",
    "    return [(1, state)]\n",
    "  return [(0.5, state+1), (0.5, state+2)]\n",
    "\n",
    "class OptReplaceEnv(gym.Env):\n",
    "  def __init__(self, seed=None):\n",
    "    self.observation_space = gym.spaces.Discrete(51)\n",
    "    self.action_space = gym.spaces.Discrete(2)\n",
    "\n",
    "  def reset(self, seed=None, options=None):\n",
    "    self.miles = 0\n",
    "    return self.miles, {}\n",
    "\n",
    "  def step(self, action):\n",
    "    if action == 0:\n",
    "      reward = -self.miles\n",
    "    else:\n",
    "      reward = -15\n",
    "      self.miles = 0\n",
    "    self.miles += random.choice([1,2])\n",
    "    return self.miles, reward, False, False, {}"
   ]
  },
  {
   "cell_type": "code",
   "execution_count": 36,
   "metadata": {
    "id": "14rF9TNnABQg",
    "ExecuteTime": {
     "end_time": "2024-02-26T20:29:16.643895400Z",
     "start_time": "2024-02-26T20:29:16.616416200Z"
    }
   },
   "outputs": [],
   "source": [
    "env = OptReplaceEnv()"
   ]
  },
  {
   "cell_type": "code",
   "execution_count": 37,
   "metadata": {
    "id": "QOczFR_DAG-C",
    "ExecuteTime": {
     "end_time": "2024-02-26T20:29:18.855235Z",
     "start_time": "2024-02-26T20:29:18.823220Z"
    }
   },
   "outputs": [],
   "source": [
    "obs, _ = env.reset()"
   ]
  },
  {
   "cell_type": "code",
   "execution_count": 38,
   "metadata": {
    "colab": {
     "base_uri": "https://localhost:8080/"
    },
    "id": "by5qBkDKAUoK",
    "outputId": "6a509bd9-d2ed-43f7-adac-90affdba1614",
    "ExecuteTime": {
     "end_time": "2024-02-26T20:29:19.906448100Z",
     "start_time": "2024-02-26T20:29:19.878846800Z"
    }
   },
   "outputs": [
    {
     "data": {
      "text/plain": "33"
     },
     "execution_count": 38,
     "metadata": {},
     "output_type": "execute_result"
    }
   ],
   "source": [
    "env.observation_space.sample()"
   ]
  },
  {
   "cell_type": "code",
   "execution_count": 39,
   "metadata": {
    "colab": {
     "base_uri": "https://localhost:8080/"
    },
    "id": "5ZRhU4Q8AzrT",
    "outputId": "1e785fa7-a4eb-43cc-8730-81c1fd533eb6",
    "ExecuteTime": {
     "end_time": "2024-02-26T20:29:22.374443Z",
     "start_time": "2024-02-26T20:29:22.321311400Z"
    }
   },
   "outputs": [
    {
     "data": {
      "text/plain": "(1, -15, False, False, {})"
     },
     "execution_count": 39,
     "metadata": {},
     "output_type": "execute_result"
    }
   ],
   "source": [
    "env.step(env.action_space.sample())"
   ]
  },
  {
   "cell_type": "code",
   "execution_count": 40,
   "metadata": {
    "colab": {
     "base_uri": "https://localhost:8080/"
    },
    "id": "dwqc5jQ1tLio",
    "outputId": "083b7c08-f6bd-4135-f2a8-c315141d16ba",
    "ExecuteTime": {
     "end_time": "2024-02-26T20:29:25.523618500Z",
     "start_time": "2024-02-26T20:29:25.427366600Z"
    }
   },
   "outputs": [
    {
     "ename": "ImportError",
     "evalue": "DLL load failed while importing _fs: The specified procedure could not be found.",
     "output_type": "error",
     "traceback": [
      "\u001B[1;31m---------------------------------------------------------------------------\u001B[0m",
      "\u001B[1;31mImportError\u001B[0m                               Traceback (most recent call last)",
      "\u001B[1;32m~\\AppData\\Local\\Temp\\ipykernel_34720\\277259797.py\u001B[0m in \u001B[0;36m<cell line: 2>\u001B[1;34m()\u001B[0m\n\u001B[0;32m      1\u001B[0m \u001B[1;32mimport\u001B[0m \u001B[0mray\u001B[0m\u001B[1;33m\u001B[0m\u001B[1;33m\u001B[0m\u001B[0m\n\u001B[1;32m----> 2\u001B[1;33m \u001B[1;32mfrom\u001B[0m \u001B[0mray\u001B[0m \u001B[1;32mimport\u001B[0m \u001B[0mtune\u001B[0m\u001B[1;33m,\u001B[0m \u001B[0mair\u001B[0m\u001B[1;33m\u001B[0m\u001B[1;33m\u001B[0m\u001B[0m\n\u001B[0m\u001B[0;32m      3\u001B[0m \u001B[1;32mfrom\u001B[0m \u001B[0mray\u001B[0m\u001B[1;33m.\u001B[0m\u001B[0mrllib\u001B[0m\u001B[1;33m.\u001B[0m\u001B[0malgorithms\u001B[0m\u001B[1;33m.\u001B[0m\u001B[0mppo\u001B[0m \u001B[1;32mimport\u001B[0m \u001B[0mPPOConfig\u001B[0m\u001B[1;33m\u001B[0m\u001B[1;33m\u001B[0m\u001B[0m\n\u001B[0;32m      4\u001B[0m \u001B[1;32mfrom\u001B[0m \u001B[0mfunctools\u001B[0m \u001B[1;32mimport\u001B[0m \u001B[0mpartial\u001B[0m\u001B[1;33m\u001B[0m\u001B[1;33m\u001B[0m\u001B[0m\n",
      "\u001B[1;32mC:\\Python310\\lib\\site-packages\\ray\\tune\\__init__.py\u001B[0m in \u001B[0;36m<module>\u001B[1;34m\u001B[0m\n\u001B[0;32m     13\u001B[0m \u001B[1;33m\u001B[0m\u001B[0m\n\u001B[0;32m     14\u001B[0m \u001B[1;32mfrom\u001B[0m \u001B[0mray\u001B[0m\u001B[1;33m.\u001B[0m\u001B[0mtune\u001B[0m\u001B[1;33m.\u001B[0m\u001B[0merror\u001B[0m \u001B[1;32mimport\u001B[0m \u001B[0mTuneError\u001B[0m\u001B[1;33m\u001B[0m\u001B[1;33m\u001B[0m\u001B[0m\n\u001B[1;32m---> 15\u001B[1;33m \u001B[1;32mfrom\u001B[0m \u001B[0mray\u001B[0m\u001B[1;33m.\u001B[0m\u001B[0mtune\u001B[0m\u001B[1;33m.\u001B[0m\u001B[0mtune\u001B[0m \u001B[1;32mimport\u001B[0m \u001B[0mrun_experiments\u001B[0m\u001B[1;33m,\u001B[0m \u001B[0mrun\u001B[0m\u001B[1;33m\u001B[0m\u001B[1;33m\u001B[0m\u001B[0m\n\u001B[0m\u001B[0;32m     16\u001B[0m \u001B[1;32mfrom\u001B[0m \u001B[0mray\u001B[0m\u001B[1;33m.\u001B[0m\u001B[0mtune\u001B[0m\u001B[1;33m.\u001B[0m\u001B[0msyncer\u001B[0m \u001B[1;32mimport\u001B[0m \u001B[0mSyncConfig\u001B[0m\u001B[1;33m\u001B[0m\u001B[1;33m\u001B[0m\u001B[0m\n\u001B[0;32m     17\u001B[0m \u001B[1;32mfrom\u001B[0m \u001B[0mray\u001B[0m\u001B[1;33m.\u001B[0m\u001B[0mtune\u001B[0m\u001B[1;33m.\u001B[0m\u001B[0mexperiment\u001B[0m \u001B[1;32mimport\u001B[0m \u001B[0mExperiment\u001B[0m\u001B[1;33m\u001B[0m\u001B[1;33m\u001B[0m\u001B[0m\n",
      "\u001B[1;32mC:\\Python310\\lib\\site-packages\\ray\\tune\\tune.py\u001B[0m in \u001B[0;36m<module>\u001B[1;34m\u001B[0m\n\u001B[0;32m     22\u001B[0m \u001B[1;33m\u001B[0m\u001B[0m\n\u001B[0;32m     23\u001B[0m \u001B[1;32mimport\u001B[0m \u001B[0mray\u001B[0m\u001B[1;33m\u001B[0m\u001B[1;33m\u001B[0m\u001B[0m\n\u001B[1;32m---> 24\u001B[1;33m \u001B[1;32mfrom\u001B[0m \u001B[0mray\u001B[0m\u001B[1;33m.\u001B[0m\u001B[0mair\u001B[0m\u001B[1;33m.\u001B[0m\u001B[0m_internal\u001B[0m \u001B[1;32mimport\u001B[0m \u001B[0musage\u001B[0m \u001B[1;32mas\u001B[0m \u001B[0mair_usage\u001B[0m\u001B[1;33m\u001B[0m\u001B[1;33m\u001B[0m\u001B[0m\n\u001B[0m\u001B[0;32m     25\u001B[0m \u001B[1;32mfrom\u001B[0m \u001B[0mray\u001B[0m\u001B[1;33m.\u001B[0m\u001B[0mair\u001B[0m\u001B[1;33m.\u001B[0m\u001B[0m_internal\u001B[0m\u001B[1;33m.\u001B[0m\u001B[0musage\u001B[0m \u001B[1;32mimport\u001B[0m \u001B[0mAirEntrypoint\u001B[0m\u001B[1;33m\u001B[0m\u001B[1;33m\u001B[0m\u001B[0m\n\u001B[0;32m     26\u001B[0m \u001B[1;32mfrom\u001B[0m \u001B[0mray\u001B[0m\u001B[1;33m.\u001B[0m\u001B[0mair\u001B[0m\u001B[1;33m.\u001B[0m\u001B[0mutil\u001B[0m\u001B[1;33m.\u001B[0m\u001B[0mnode\u001B[0m \u001B[1;32mimport\u001B[0m \u001B[0m_force_on_current_node\u001B[0m\u001B[1;33m\u001B[0m\u001B[1;33m\u001B[0m\u001B[0m\n",
      "\u001B[1;32mC:\\Python310\\lib\\site-packages\\ray\\air\\__init__.py\u001B[0m in \u001B[0;36m<module>\u001B[1;34m\u001B[0m\n\u001B[1;32m----> 1\u001B[1;33m from ray.air.config import (\n\u001B[0m\u001B[0;32m      2\u001B[0m     \u001B[0mDatasetConfig\u001B[0m\u001B[1;33m,\u001B[0m\u001B[1;33m\u001B[0m\u001B[1;33m\u001B[0m\u001B[0m\n\u001B[0;32m      3\u001B[0m     \u001B[0mRunConfig\u001B[0m\u001B[1;33m,\u001B[0m\u001B[1;33m\u001B[0m\u001B[1;33m\u001B[0m\u001B[0m\n\u001B[0;32m      4\u001B[0m     \u001B[0mScalingConfig\u001B[0m\u001B[1;33m,\u001B[0m\u001B[1;33m\u001B[0m\u001B[1;33m\u001B[0m\u001B[0m\n\u001B[0;32m      5\u001B[0m     \u001B[0mFailureConfig\u001B[0m\u001B[1;33m,\u001B[0m\u001B[1;33m\u001B[0m\u001B[1;33m\u001B[0m\u001B[0m\n",
      "\u001B[1;32mC:\\Python310\\lib\\site-packages\\ray\\air\\config.py\u001B[0m in \u001B[0;36m<module>\u001B[1;34m\u001B[0m\n\u001B[0;32m     15\u001B[0m )\n\u001B[0;32m     16\u001B[0m \u001B[1;33m\u001B[0m\u001B[0m\n\u001B[1;32m---> 17\u001B[1;33m \u001B[1;32mimport\u001B[0m \u001B[0mpyarrow\u001B[0m\u001B[1;33m.\u001B[0m\u001B[0mfs\u001B[0m\u001B[1;33m\u001B[0m\u001B[1;33m\u001B[0m\u001B[0m\n\u001B[0m\u001B[0;32m     18\u001B[0m \u001B[1;33m\u001B[0m\u001B[0m\n\u001B[0;32m     19\u001B[0m \u001B[1;32mfrom\u001B[0m \u001B[0mray\u001B[0m\u001B[1;33m.\u001B[0m\u001B[0m_private\u001B[0m\u001B[1;33m.\u001B[0m\u001B[0mthirdparty\u001B[0m\u001B[1;33m.\u001B[0m\u001B[0mtabulate\u001B[0m\u001B[1;33m.\u001B[0m\u001B[0mtabulate\u001B[0m \u001B[1;32mimport\u001B[0m \u001B[0mtabulate\u001B[0m\u001B[1;33m\u001B[0m\u001B[1;33m\u001B[0m\u001B[0m\n",
      "\u001B[1;32mC:\\Python310\\lib\\site-packages\\pyarrow\\fs.py\u001B[0m in \u001B[0;36m<module>\u001B[1;34m\u001B[0m\n\u001B[0;32m     22\u001B[0m \u001B[1;32mfrom\u001B[0m \u001B[0mpyarrow\u001B[0m\u001B[1;33m.\u001B[0m\u001B[0mutil\u001B[0m \u001B[1;32mimport\u001B[0m \u001B[0m_is_path_like\u001B[0m\u001B[1;33m,\u001B[0m \u001B[0m_stringify_path\u001B[0m\u001B[1;33m\u001B[0m\u001B[1;33m\u001B[0m\u001B[0m\n\u001B[0;32m     23\u001B[0m \u001B[1;33m\u001B[0m\u001B[0m\n\u001B[1;32m---> 24\u001B[1;33m from pyarrow._fs import (  # noqa\n\u001B[0m\u001B[0;32m     25\u001B[0m     \u001B[0mFileSelector\u001B[0m\u001B[1;33m,\u001B[0m\u001B[1;33m\u001B[0m\u001B[1;33m\u001B[0m\u001B[0m\n\u001B[0;32m     26\u001B[0m     \u001B[0mFileType\u001B[0m\u001B[1;33m,\u001B[0m\u001B[1;33m\u001B[0m\u001B[1;33m\u001B[0m\u001B[0m\n",
      "\u001B[1;31mImportError\u001B[0m: DLL load failed while importing _fs: The specified procedure could not be found."
     ]
    }
   ],
   "source": [
    "import ray\n",
    "from ray import tune, air\n",
    "from ray.rllib.algorithms.ppo import PPOConfig\n",
    "from functools import partial"
   ]
  },
  {
   "cell_type": "code",
   "execution_count": 41,
   "metadata": {
    "colab": {
     "base_uri": "https://localhost:8080/",
     "height": 131
    },
    "id": "iflzWHmKtvKl",
    "outputId": "3691f6b8-32d2-4026-b709-2dea156f971e",
    "ExecuteTime": {
     "end_time": "2024-02-26T20:29:45.696498300Z",
     "start_time": "2024-02-26T20:29:35.804911100Z"
    }
   },
   "outputs": [
    {
     "name": "stderr",
     "output_type": "stream",
     "text": [
      "2024-02-26 12:29:43,660\tINFO worker.py:1724 -- Started a local Ray instance.\n"
     ]
    },
    {
     "data": {
      "text/plain": "RayContext(dashboard_url='', python_version='3.10.5', ray_version='2.9.3', ray_commit='62655e11ed76509b78654b60be67bc59f8f3460a', protocol_version=None)",
      "text/html": "<div class=\"lm-Widget p-Widget lm-Panel p-Panel jp-Cell-outputWrapper\">\n    <div style=\"margin-left: 50px;display: flex;flex-direction: row;align-items: center\">\n        <div class=\"jp-RenderedHTMLCommon\" style=\"display: flex; flex-direction: row;\">\n  <svg viewBox=\"0 0 567 224\" fill=\"none\" xmlns=\"http://www.w3.org/2000/svg\" style=\"height: 3em;\">\n    <g clip-path=\"url(#clip0_4338_178347)\">\n        <path d=\"M341.29 165.561H355.29L330.13 129.051C345.63 123.991 354.21 112.051 354.21 94.2307C354.21 71.3707 338.72 58.1807 311.88 58.1807H271V165.561H283.27V131.661H311.8C314.25 131.661 316.71 131.501 319.01 131.351L341.25 165.561H341.29ZM283.29 119.851V70.0007H311.82C331.3 70.0007 342.34 78.2907 342.34 94.5507C342.34 111.271 331.34 119.861 311.82 119.861L283.29 119.851ZM451.4 138.411L463.4 165.561H476.74L428.74 58.1807H416L367.83 165.561H380.83L392.83 138.411H451.4ZM446.19 126.601H398L422 72.1407L446.24 126.601H446.19ZM526.11 128.741L566.91 58.1807H554.35L519.99 114.181L485.17 58.1807H472.44L514.01 129.181V165.541H526.13V128.741H526.11Z\" fill=\"var(--jp-ui-font-color0)\"/>\n        <path d=\"M82.35 104.44C84.0187 97.8827 87.8248 92.0678 93.1671 87.9146C98.5094 83.7614 105.083 81.5067 111.85 81.5067C118.617 81.5067 125.191 83.7614 130.533 87.9146C135.875 92.0678 139.681 97.8827 141.35 104.44H163.75C164.476 101.562 165.622 98.8057 167.15 96.2605L127.45 56.5605C121.071 60.3522 113.526 61.6823 106.235 60.3005C98.9443 58.9187 92.4094 54.9203 87.8602 49.0574C83.3109 43.1946 81.0609 35.8714 81.5332 28.4656C82.0056 21.0599 85.1679 14.0819 90.4252 8.8446C95.6824 3.60726 102.672 0.471508 110.08 0.0272655C117.487 -0.416977 124.802 1.86091 130.647 6.4324C136.493 11.0039 140.467 17.5539 141.821 24.8501C143.175 32.1463 141.816 39.6859 138 46.0505L177.69 85.7505C182.31 82.9877 187.58 81.4995 192.962 81.4375C198.345 81.3755 203.648 82.742 208.33 85.3976C213.012 88.0532 216.907 91.9029 219.616 96.5544C222.326 101.206 223.753 106.492 223.753 111.875C223.753 117.258 222.326 122.545 219.616 127.197C216.907 131.848 213.012 135.698 208.33 138.353C203.648 141.009 198.345 142.375 192.962 142.313C187.58 142.251 182.31 140.763 177.69 138L138 177.7C141.808 184.071 143.155 191.614 141.79 198.91C140.424 206.205 136.44 212.75 130.585 217.313C124.731 221.875 117.412 224.141 110.004 223.683C102.596 223.226 95.6103 220.077 90.3621 214.828C85.1139 209.58 81.9647 202.595 81.5072 195.187C81.0497 187.779 83.3154 180.459 87.878 174.605C92.4405 168.751 98.9853 164.766 106.281 163.401C113.576 162.035 121.119 163.383 127.49 167.19L167.19 127.49C165.664 124.941 164.518 122.182 163.79 119.3H141.39C139.721 125.858 135.915 131.673 130.573 135.826C125.231 139.98 118.657 142.234 111.89 142.234C105.123 142.234 98.5494 139.98 93.2071 135.826C87.8648 131.673 84.0587 125.858 82.39 119.3H60C58.1878 126.495 53.8086 132.78 47.6863 136.971C41.5641 141.163 34.1211 142.972 26.7579 142.059C19.3947 141.146 12.6191 137.574 7.70605 132.014C2.79302 126.454 0.0813599 119.29 0.0813599 111.87C0.0813599 104.451 2.79302 97.2871 7.70605 91.7272C12.6191 86.1673 19.3947 82.5947 26.7579 81.6817C34.1211 80.7686 41.5641 82.5781 47.6863 86.7696C53.8086 90.9611 58.1878 97.2456 60 104.44H82.35ZM100.86 204.32C103.407 206.868 106.759 208.453 110.345 208.806C113.93 209.159 117.527 208.258 120.522 206.256C123.517 204.254 125.725 201.276 126.771 197.828C127.816 194.38 127.633 190.677 126.253 187.349C124.874 184.021 122.383 181.274 119.205 179.577C116.027 177.88 112.359 177.337 108.826 178.042C105.293 178.746 102.113 180.654 99.8291 183.44C97.5451 186.226 96.2979 189.718 96.3 193.32C96.2985 195.364 96.7006 197.388 97.4831 199.275C98.2656 201.163 99.4132 202.877 100.86 204.32ZM204.32 122.88C206.868 120.333 208.453 116.981 208.806 113.396C209.159 109.811 208.258 106.214 206.256 103.219C204.254 100.223 201.275 98.0151 197.827 96.97C194.38 95.9249 190.676 96.1077 187.348 97.4873C184.02 98.8669 181.274 101.358 179.577 104.536C177.879 107.714 177.337 111.382 178.041 114.915C178.746 118.448 180.653 121.627 183.439 123.911C186.226 126.195 189.717 127.443 193.32 127.44C195.364 127.443 197.388 127.042 199.275 126.259C201.163 125.476 202.878 124.328 204.32 122.88ZM122.88 19.4205C120.333 16.8729 116.981 15.2876 113.395 14.9347C109.81 14.5817 106.213 15.483 103.218 17.4849C100.223 19.4868 98.0146 22.4654 96.9696 25.9131C95.9245 29.3608 96.1073 33.0642 97.4869 36.3922C98.8665 39.7202 101.358 42.4668 104.535 44.1639C107.713 45.861 111.381 46.4036 114.914 45.6992C118.447 44.9949 121.627 43.0871 123.911 40.301C126.195 37.515 127.442 34.0231 127.44 30.4205C127.44 28.3772 127.038 26.3539 126.255 24.4664C125.473 22.5788 124.326 20.8642 122.88 19.4205ZM19.42 100.86C16.8725 103.408 15.2872 106.76 14.9342 110.345C14.5813 113.93 15.4826 117.527 17.4844 120.522C19.4863 123.518 22.4649 125.726 25.9127 126.771C29.3604 127.816 33.0638 127.633 36.3918 126.254C39.7198 124.874 42.4664 122.383 44.1635 119.205C45.8606 116.027 46.4032 112.359 45.6988 108.826C44.9944 105.293 43.0866 102.114 40.3006 99.8296C37.5145 97.5455 34.0227 96.2983 30.42 96.3005C26.2938 96.3018 22.337 97.9421 19.42 100.86ZM100.86 100.86C98.3125 103.408 96.7272 106.76 96.3742 110.345C96.0213 113.93 96.9226 117.527 98.9244 120.522C100.926 123.518 103.905 125.726 107.353 126.771C110.8 127.816 114.504 127.633 117.832 126.254C121.16 124.874 123.906 122.383 125.604 119.205C127.301 116.027 127.843 112.359 127.139 108.826C126.434 105.293 124.527 102.114 121.741 99.8296C118.955 97.5455 115.463 96.2983 111.86 96.3005C109.817 96.299 107.793 96.701 105.905 97.4835C104.018 98.2661 102.303 99.4136 100.86 100.86Z\" fill=\"#00AEEF\"/>\n    </g>\n    <defs>\n        <clipPath id=\"clip0_4338_178347\">\n            <rect width=\"566.93\" height=\"223.75\" fill=\"white\"/>\n        </clipPath>\n    </defs>\n  </svg>\n</div>\n\n        <table class=\"jp-RenderedHTMLCommon\" style=\"border-collapse: collapse;color: var(--jp-ui-font-color1);font-size: var(--jp-ui-font-size1);\">\n    <tr>\n        <td style=\"text-align: left\"><b>Python version:</b></td>\n        <td style=\"text-align: left\"><b>3.10.5</b></td>\n    </tr>\n    <tr>\n        <td style=\"text-align: left\"><b>Ray version:</b></td>\n        <td style=\"text-align: left\"><b>2.9.3</b></td>\n    </tr>\n    \n</table>\n\n    </div>\n</div>\n"
     },
     "execution_count": 41,
     "metadata": {},
     "output_type": "execute_result"
    }
   ],
   "source": [
    "if ray.is_initialized():\n",
    "  ray.shutdown()\n",
    "ray.init(num_cpus=1)"
   ]
  },
  {
   "cell_type": "code",
   "execution_count": 42,
   "metadata": {
    "colab": {
     "background_save": true,
     "base_uri": "https://localhost:8080/"
    },
    "id": "mBzpABHsBW6y",
    "outputId": "e00dc2c4-c2c3-4463-99e4-6985d8e26a52",
    "ExecuteTime": {
     "end_time": "2024-02-26T20:30:24.021903300Z",
     "start_time": "2024-02-26T20:30:23.929788600Z"
    }
   },
   "outputs": [
    {
     "ename": "NameError",
     "evalue": "name 'PPOConfig' is not defined",
     "output_type": "error",
     "traceback": [
      "\u001B[1;31m---------------------------------------------------------------------------\u001B[0m",
      "\u001B[1;31mNameError\u001B[0m                                 Traceback (most recent call last)",
      "\u001B[1;32m~\\AppData\\Local\\Temp\\ipykernel_34720\\995723878.py\u001B[0m in \u001B[0;36m<cell line: 1>\u001B[1;34m()\u001B[0m\n\u001B[1;32m----> 1\u001B[1;33m config = (PPOConfig()\n\u001B[0m\u001B[0;32m      2\u001B[0m           \u001B[1;33m.\u001B[0m\u001B[0menvironment\u001B[0m\u001B[1;33m(\u001B[0m\u001B[0mOptReplaceEnv\u001B[0m\u001B[1;33m)\u001B[0m\u001B[1;33m\u001B[0m\u001B[1;33m\u001B[0m\u001B[0m\n\u001B[0;32m      3\u001B[0m           \u001B[1;33m.\u001B[0m\u001B[0mrollouts\u001B[0m\u001B[1;33m(\u001B[0m\u001B[0mnum_rollout_workers\u001B[0m\u001B[1;33m=\u001B[0m\u001B[1;36m1\u001B[0m\u001B[1;33m)\u001B[0m\u001B[1;33m\u001B[0m\u001B[1;33m\u001B[0m\u001B[0m\n\u001B[0;32m      4\u001B[0m )\n\u001B[0;32m      5\u001B[0m \u001B[1;33m\u001B[0m\u001B[0m\n",
      "\u001B[1;31mNameError\u001B[0m: name 'PPOConfig' is not defined"
     ]
    }
   ],
   "source": [
    "config = (PPOConfig()\n",
    "          .environment(OptReplaceEnv)\n",
    "          .rollouts(num_rollout_workers=1)\n",
    ")\n",
    "\n",
    "stop = {\"timesteps_total\": 10000}\n",
    "\n",
    "tuner = tune.Tuner(\n",
    "    \"PPO\",\n",
    "    param_space=config.to_dict(),\n",
    "    run_config=air.RunConfig(stop=stop),\n",
    ")\n",
    "\n",
    "tuner.fit()"
   ]
  },
  {
   "cell_type": "code",
   "execution_count": null,
   "metadata": {
    "id": "o6YWg4MhB64d",
    "ExecuteTime": {
     "start_time": "2024-02-26T20:28:03.504147300Z"
    }
   },
   "outputs": [],
   "source": []
  }
 ],
 "metadata": {
  "colab": {
   "provenance": []
  },
  "kernelspec": {
   "name": "python3",
   "language": "python",
   "display_name": "Python 3 (ipykernel)"
  },
  "language_info": {
   "name": "python"
  }
 },
 "nbformat": 4,
 "nbformat_minor": 0
}
