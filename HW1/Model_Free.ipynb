{
  "nbformat": 4,
  "nbformat_minor": 0,
  "metadata": {
    "colab": {
      "provenance": []
    },
    "kernelspec": {
      "name": "python3",
      "display_name": "Python 3"
    },
    "language_info": {
      "name": "python"
    }
  },
  "cells": [
    {
      "cell_type": "markdown",
      "source": [
        "# Model-Free prediction"
      ],
      "metadata": {
        "id": "bEuJk8ybfSNR"
      }
    },
    {
      "cell_type": "markdown",
      "source": [
        "## Monte Carlo"
      ],
      "metadata": {
        "id": "Srg8fyWffX1Y"
      }
    },
    {
      "cell_type": "code",
      "execution_count": null,
      "metadata": {
        "id": "bJWgExbSfRAf"
      },
      "outputs": [],
      "source": [
        "import random\n",
        "n = 10\n",
        "w_max = 25\n",
        "values = [random.randint(1,10) for _ in range(n)]\n",
        "weights1 = [random.randint(1,10) for _ in range(n)]\n",
        "weights2 = [random.randint(1,10) for _ in range(n)]\n",
        "\n",
        "# state = (item #, weight_remaining)\n",
        "def available_actions(state):\n",
        "  return [0,1]\n",
        "\n",
        "def reward(state, action):\n",
        "  if action == 0:\n",
        "    return 0\n",
        "  return values[state[0]]\n",
        "\n",
        "def possible_states(state, action):\n",
        "  item_ind = state[0]\n",
        "  if action == 0:\n",
        "    return [(1,(item_ind+1, state[1]))]\n",
        "\n",
        "  if action == 1:\n",
        "    return [(0.5, (item_ind+1, state[1] - weights1[item_ind])),\n",
        "            (0.5, (item_ind+1, state[1] - weights2[item_ind]))]\n",
        "\n",
        "\n",
        "def terminal_state(state):\n",
        "  if state[1] < 0:\n",
        "    return True, (-1000000, -1)\n",
        "  if state[0] >= len(values):\n",
        "    return True, (0, -1)\n",
        "  else:\n",
        "    return False, ()\n",
        "\n",
        "cache = {}\n",
        "def bellman(state):\n",
        "  is_terminal, term_return = terminal_state(state)\n",
        "  if is_terminal:\n",
        "    return term_return\n",
        "  if state in cache:\n",
        "    return cache[state]\n",
        "  best_value = None\n",
        "  best_action = None\n",
        "  for action in available_actions(state):\n",
        "    exp_action_value = 0\n",
        "    for p_state, next_state in possible_states(state, action):\n",
        "      exp_action_value += p_state*(reward(state, action) + bellman(next_state)[0])\n",
        "    if best_value is None or exp_action_value > best_value:\n",
        "      best_value = exp_action_value\n",
        "      best_action = action\n",
        "  cache[state] = (best_value, best_action)\n",
        "  return best_value, best_action"
      ]
    },
    {
      "cell_type": "code",
      "source": [
        "bellman((0,w_max))"
      ],
      "metadata": {
        "colab": {
          "base_uri": "https://localhost:8080/"
        },
        "id": "_pxC_wcnp0Ry",
        "outputId": "be9ea91b-74cc-4d3a-dff6-3d8bbb38d348"
      },
      "execution_count": null,
      "outputs": [
        {
          "output_type": "execute_result",
          "data": {
            "text/plain": [
              "(33.71875, 1)"
            ]
          },
          "metadata": {},
          "execution_count": 33
        }
      ]
    },
    {
      "cell_type": "code",
      "source": [
        "[(v, w1, w2) for v,w1,w2 in zip(values, weights1, weights2)]"
      ],
      "metadata": {
        "colab": {
          "base_uri": "https://localhost:8080/"
        },
        "id": "DsyRI7gVp7AK",
        "outputId": "bf38445e-69b5-41af-906e-14a2822c463b"
      },
      "execution_count": null,
      "outputs": [
        {
          "output_type": "execute_result",
          "data": {
            "text/plain": [
              "[(4, 2, 5),\n",
              " (7, 1, 7),\n",
              " (1, 6, 3),\n",
              " (1, 3, 10),\n",
              " (4, 3, 2),\n",
              " (9, 10, 5),\n",
              " (9, 5, 2),\n",
              " (4, 6, 3),\n",
              " (4, 7, 5),\n",
              " (2, 2, 4)]"
            ]
          },
          "metadata": {},
          "execution_count": 34
        }
      ]
    },
    {
      "cell_type": "code",
      "source": [
        "state = (0, w_max)\n",
        "state_actions = []\n",
        "while not terminal_state(state)[0]:\n",
        "  best_value, best_action = bellman(state)\n",
        "  state_actions.append((state, best_action))\n",
        "  states = possible_states(state, best_action)\n",
        "  state = random.choices([s[1] for s in states],\n",
        "                          weights=[s[0] for s in states])[0]\n",
        "for s,a in state_actions:\n",
        "  print(f'item#:{s[0]}\\t Weight:{s[1]}\\t add?:{a}')"
      ],
      "metadata": {
        "colab": {
          "base_uri": "https://localhost:8080/"
        },
        "id": "SU9_yYKBqXd8",
        "outputId": "0613c914-6069-42c5-b26e-47794bf561d3"
      },
      "execution_count": null,
      "outputs": [
        {
          "output_type": "stream",
          "name": "stdout",
          "text": [
            "item#:0\t Weight:25\t add?:1\n",
            "item#:1\t Weight:20\t add?:1\n",
            "item#:2\t Weight:13\t add?:0\n",
            "item#:3\t Weight:13\t add?:0\n",
            "item#:4\t Weight:13\t add?:1\n",
            "item#:5\t Weight:11\t add?:1\n",
            "item#:6\t Weight:6\t add?:1\n",
            "item#:7\t Weight:4\t add?:0\n",
            "item#:8\t Weight:4\t add?:0\n",
            "item#:9\t Weight:4\t add?:1\n"
          ]
        }
      ]
    },
    {
      "cell_type": "code",
      "source": [
        "cache"
      ],
      "metadata": {
        "colab": {
          "base_uri": "https://localhost:8080/"
        },
        "id": "Ecq9CBz-rbvu",
        "outputId": "8b842237-ed34-4c0f-c831-6a1066b31da1"
      },
      "execution_count": null,
      "outputs": [
        {
          "output_type": "execute_result",
          "data": {
            "text/plain": [
              "{(9, 25): (2.0, 1),\n",
              " (9, 18): (2.0, 1),\n",
              " (9, 20): (2.0, 1),\n",
              " (8, 25): (6.0, 1),\n",
              " (9, 19): (2.0, 1),\n",
              " (9, 12): (2.0, 1),\n",
              " (9, 14): (2.0, 1),\n",
              " (8, 19): (6.0, 1),\n",
              " (9, 22): (2.0, 1),\n",
              " (9, 15): (2.0, 1),\n",
              " (9, 17): (2.0, 1),\n",
              " (8, 22): (6.0, 1),\n",
              " (7, 25): (10.0, 1),\n",
              " (9, 13): (2.0, 1),\n",
              " (8, 20): (6.0, 1),\n",
              " (9, 7): (2.0, 1),\n",
              " (9, 9): (2.0, 1),\n",
              " (8, 14): (6.0, 1),\n",
              " (9, 10): (2.0, 1),\n",
              " (8, 17): (6.0, 1),\n",
              " (7, 20): (10.0, 1),\n",
              " (9, 23): (2.0, 1),\n",
              " (9, 16): (2.0, 1),\n",
              " (8, 23): (6.0, 1),\n",
              " (7, 23): (10.0, 1),\n",
              " (6, 25): (19.0, 1),\n",
              " (9, 8): (2.0, 1),\n",
              " (8, 15): (6.0, 1),\n",
              " (9, 2): (0, 0),\n",
              " (9, 4): (2.0, 1),\n",
              " (8, 9): (5.0, 1),\n",
              " (9, 5): (2.0, 1),\n",
              " (8, 12): (6.0, 1),\n",
              " (7, 15): (9.5, 1),\n",
              " (9, 3): (0, 0),\n",
              " (8, 10): (5.0, 1),\n",
              " (8, 4): (2.0, 0),\n",
              " (9, 0): (0, 0),\n",
              " (8, 7): (4.0, 1),\n",
              " (7, 10): (7.0, 1),\n",
              " (9, 6): (2.0, 1),\n",
              " (8, 13): (6.0, 1),\n",
              " (7, 13): (8.5, 1),\n",
              " (6, 15): (16.75, 1),\n",
              " (9, 11): (2.0, 1),\n",
              " (8, 18): (6.0, 1),\n",
              " (7, 18): (10.0, 1),\n",
              " (6, 20): (18.75, 1),\n",
              " (5, 25): (26.75, 1),\n",
              " (8, 16): (6.0, 1),\n",
              " (7, 22): (10.0, 1),\n",
              " (8, 11): (6.0, 1),\n",
              " (7, 17): (10.0, 1),\n",
              " (6, 22): (19.0, 1),\n",
              " (9, 1): (0, 0),\n",
              " (8, 6): (2.0, 0),\n",
              " (7, 12): (7.5, 1),\n",
              " (8, 1): (0, 0),\n",
              " (7, 7): (5.0, 1),\n",
              " (6, 12): (15.0, 1),\n",
              " (6, 17): (17.5, 1),\n",
              " (5, 22): (25.25, 1),\n",
              " (9, 21): (2.0, 1),\n",
              " (8, 21): (6.0, 1),\n",
              " (7, 21): (10.0, 1),\n",
              " (6, 23): (19.0, 1),\n",
              " (8, 8): (4.0, 1),\n",
              " (8, 2): (0, 0),\n",
              " (8, 5): (2.0, 0),\n",
              " (7, 8): (5.0, 1),\n",
              " (7, 11): (7.0, 1),\n",
              " (6, 13): (15.0, 1),\n",
              " (7, 16): (9.5, 1),\n",
              " (6, 18): (18.0, 1),\n",
              " (5, 23): (25.5, 1),\n",
              " (4, 25): (29.375, 1),\n",
              " (7, 19): (10.0, 1),\n",
              " (7, 14): (9.0, 1),\n",
              " (6, 19): (18.5, 1),\n",
              " (8, 3): (0, 0),\n",
              " (7, 9): (5.0, 0),\n",
              " (7, 4): (2.0, 0),\n",
              " (6, 9): (12.5, 1),\n",
              " (6, 14): (15.25, 1),\n",
              " (5, 19): (22.875, 1),\n",
              " (7, 5): (2.0, 0),\n",
              " (6, 10): (12.5, 1),\n",
              " (5, 20): (23.625, 1),\n",
              " (4, 22): (27.25, 1),\n",
              " (8, 0): (0, 0),\n",
              " (7, 0): (0, 0),\n",
              " (7, 3): (0, 0),\n",
              " (6, 5): (9.0, 1),\n",
              " (5, 15): (19.75, 1),\n",
              " (7, 2): (0, 0),\n",
              " (6, 2): (0, 0),\n",
              " (6, 7): (10.0, 1),\n",
              " (5, 12): (15.0, 0),\n",
              " (7, 1): (0, 0),\n",
              " (6, 3): (0, 0),\n",
              " (7, 6): (4.0, 1),\n",
              " (6, 8): (11.0, 1),\n",
              " (5, 13): (15.0, 0),\n",
              " (4, 15): (19.75, 0),\n",
              " (3, 25): (29.375, 0),\n",
              " (6, 16): (17.0, 1),\n",
              " (6, 6): (10.0, 1),\n",
              " (6, 11): (13.5, 1),\n",
              " (5, 16): (20.75, 1),\n",
              " (5, 17): (21.5, 1),\n",
              " (4, 19): (25.125, 1),\n",
              " (6, 4): (2.0, 0),\n",
              " (5, 14): (16.25, 1),\n",
              " (4, 16): (20.75, 0),\n",
              " (5, 9): (12.5, 0),\n",
              " (6, 1): (0, 0),\n",
              " (5, 6): (10.0, 0),\n",
              " (5, 7): (10.0, 0),\n",
              " (4, 9): (14.0, 1),\n",
              " (3, 19): (25.125, 0),\n",
              " (6, 0): (0, 0),\n",
              " (5, 10): (13.5, 1),\n",
              " (4, 12): (17.0, 1),\n",
              " (3, 22): (27.25, 0),\n",
              " (2, 25): (29.375, 0),\n",
              " (9, 24): (2.0, 1),\n",
              " (8, 24): (6.0, 1),\n",
              " (7, 24): (10.0, 1),\n",
              " (6, 24): (19.0, 1),\n",
              " (5, 24): (25.875, 1),\n",
              " (6, 21): (18.75, 1),\n",
              " (5, 21): (24.25, 1),\n",
              " (4, 24): (28.75, 1),\n",
              " (5, 18): (22.0, 1),\n",
              " (4, 21): (26.4375, 1),\n",
              " (5, 11): (14.0, 1),\n",
              " (4, 14): (18.5, 1),\n",
              " (3, 24): (28.75, 0),\n",
              " (4, 18): (24.25, 1),\n",
              " (5, 8): (11.0, 0),\n",
              " (5, 5): (9.0, 0),\n",
              " (4, 8): (13.5, 1),\n",
              " (3, 18): (24.25, 0),\n",
              " (4, 11): (15.75, 1),\n",
              " (3, 21): (26.4375, 0),\n",
              " (2, 24): (28.75, 0),\n",
              " (5, 2): (0, 0),\n",
              " (5, 0): (0, 0),\n",
              " (4, 2): (0, 0),\n",
              " (3, 12): (17.0, 0),\n",
              " (5, 3): (0, 0),\n",
              " (4, 5): (9.0, 0),\n",
              " (3, 15): (19.75, 0),\n",
              " (2, 18): (24.25, 0),\n",
              " (1, 25): (33.5, 1),\n",
              " (4, 23): (27.9375, 1),\n",
              " (4, 20): (25.75, 1),\n",
              " (4, 13): (17.75, 1),\n",
              " (3, 23): (27.9375, 0),\n",
              " (4, 17): (22.0, 1),\n",
              " (5, 4): (2.0, 0),\n",
              " (4, 7): (10.0, 0),\n",
              " (3, 17): (22.0, 0),\n",
              " (4, 10): (14.5, 1),\n",
              " (3, 20): (25.75, 0),\n",
              " (2, 23): (27.9375, 0),\n",
              " (4, 6): (10.0, 0),\n",
              " (3, 16): (20.75, 0),\n",
              " (2, 22): (27.25, 0),\n",
              " (4, 0): (0, 0),\n",
              " (3, 10): (14.5, 0),\n",
              " (5, 1): (0, 0),\n",
              " (4, 3): (4.0, 1),\n",
              " (3, 13): (17.75, 0),\n",
              " (2, 16): (20.75, 0),\n",
              " (1, 23): (31.0, 1),\n",
              " (4, 4): (4.0, 1),\n",
              " (3, 14): (18.5, 0),\n",
              " (2, 20): (25.75, 0),\n",
              " (2, 19): (25.125, 0),\n",
              " (3, 7): (10.0, 0),\n",
              " (2, 13): (17.75, 0),\n",
              " (1, 20): (28.4375, 1),\n",
              " (0, 25): (33.71875, 1)}"
            ]
          },
          "metadata": {},
          "execution_count": 96
        }
      ]
    },
    {
      "cell_type": "code",
      "source": [
        "opt_policy = {}\n",
        "for s,v_a in cache.items():\n",
        "  opt_policy[s] = v_a[1]"
      ],
      "metadata": {
        "id": "fNaECOWesnOc"
      },
      "execution_count": null,
      "outputs": []
    },
    {
      "cell_type": "markdown",
      "source": [
        "## Monte Carlo Policy Evaluation"
      ],
      "metadata": {
        "id": "hVw-el0CtNm-"
      }
    },
    {
      "cell_type": "code",
      "source": [
        "policy = {}\n",
        "for item in range(n):\n",
        "  for weight in range(w_max+1):\n",
        "    if max(weights1[item], weights2[item]) > weight:\n",
        "      policy[(item,weight)] = 0\n",
        "    else:\n",
        "      policy[(item,weight)] = random.randint(0,1)"
      ],
      "metadata": {
        "id": "jury6af7q0x8"
      },
      "execution_count": null,
      "outputs": []
    },
    {
      "cell_type": "code",
      "source": [
        "mc_cache = {}\n",
        "#State:(N, TotalReward)"
      ],
      "metadata": {
        "id": "NwNJairxu3Xz"
      },
      "execution_count": null,
      "outputs": []
    },
    {
      "cell_type": "code",
      "source": [
        "for _ in range(10000):\n",
        "  state = (0, w_max)\n",
        "  state_actions_reward = []\n",
        "  while not terminal_state(state)[0]:\n",
        "    if state not in mc_cache:\n",
        "      mc_cache[state] = [0, 0]\n",
        "    action = opt_policy[state]\n",
        "    r = reward(state,action)\n",
        "    # Add that we saw this state and the reward\n",
        "    mc_cache[state][0] += 1\n",
        "    mc_cache[state][1] += r\n",
        "    # Add reward to previous states\n",
        "    for s,_,_ in state_actions_reward:\n",
        "      mc_cache[s][1] += r\n",
        "    state_actions_reward.append((state, action, r))\n",
        "    states = possible_states(state, action)\n",
        "    state = random.choices([s[1] for s in states],\n",
        "                            weights=[s[0] for s in states])[0]"
      ],
      "metadata": {
        "id": "InT0G75atqwD"
      },
      "execution_count": null,
      "outputs": []
    },
    {
      "cell_type": "code",
      "source": [
        "state_actions_reward"
      ],
      "metadata": {
        "colab": {
          "base_uri": "https://localhost:8080/"
        },
        "id": "i3UPJy1BuHS4",
        "outputId": "e1185742-47c2-4d5d-b931-3dc1f999c090"
      },
      "execution_count": null,
      "outputs": [
        {
          "output_type": "execute_result",
          "data": {
            "text/plain": [
              "[((0, 25), 0, 0),\n",
              " ((1, 25), 0, 0),\n",
              " ((2, 25), 0, 0),\n",
              " ((3, 25), 0, 0),\n",
              " ((4, 25), 1, 4),\n",
              " ((5, 22), 1, 9),\n",
              " ((6, 12), 1, 9),\n",
              " ((7, 7), 0, 0),\n",
              " ((8, 7), 0, 0),\n",
              " ((9, 7), 1, 2)]"
            ]
          },
          "metadata": {},
          "execution_count": 83
        }
      ]
    },
    {
      "cell_type": "code",
      "source": [
        "mc_cache"
      ],
      "metadata": {
        "colab": {
          "base_uri": "https://localhost:8080/"
        },
        "id": "iZt3o4sGunky",
        "outputId": "c4b19ca0-9db5-4c9c-df6a-f923c49a0923"
      },
      "execution_count": null,
      "outputs": [
        {
          "output_type": "execute_result",
          "data": {
            "text/plain": [
              "{(0, 25): [10000, 337648],\n",
              " (1, 20): [4993, 142093],\n",
              " (2, 13): [2534, 45248],\n",
              " (3, 13): [2534, 45248],\n",
              " (4, 13): [2534, 45248],\n",
              " (5, 11): [1243, 17553],\n",
              " (6, 1): [607, 0],\n",
              " (7, 1): [1836, 0],\n",
              " (8, 1): [2155, 0],\n",
              " (9, 1): [2155, 0],\n",
              " (1, 23): [5007, 155555],\n",
              " (2, 16): [2436, 50482],\n",
              " (3, 16): [2436, 50482],\n",
              " (4, 16): [2436, 50482],\n",
              " (5, 16): [3648, 75754],\n",
              " (6, 6): [2462, 24624],\n",
              " (7, 4): [1565, 3130],\n",
              " (8, 4): [2182, 4364],\n",
              " (9, 4): [2919, 5838],\n",
              " (6, 11): [1822, 24664],\n",
              " (7, 9): [1276, 6408],\n",
              " (8, 9): [1436, 7218],\n",
              " (2, 19): [2459, 61894],\n",
              " (3, 19): [2459, 61894],\n",
              " (4, 19): [2459, 61894],\n",
              " (5, 17): [1247, 26786],\n",
              " (6, 12): [617, 9243],\n",
              " (7, 7): [643, 3220],\n",
              " (2, 22): [2571, 70024],\n",
              " (3, 22): [2571, 70024],\n",
              " (4, 22): [2571, 70024],\n",
              " (5, 19): [1279, 29222],\n",
              " (6, 9): [650, 8108],\n",
              " (7, 6): [870, 3480],\n",
              " (8, 3): [760, 0],\n",
              " (9, 3): [837, 0],\n",
              " (8, 0): [1401, 0],\n",
              " (9, 0): [1644, 0],\n",
              " (5, 10): [1291, 17559],\n",
              " (6, 5): [660, 5940],\n",
              " (7, 0): [976, 0],\n",
              " (5, 20): [1292, 30518],\n",
              " (6, 15): [647, 10841],\n",
              " (7, 10): [613, 4318],\n",
              " (6, 14): [629, 9603],\n",
              " (7, 12): [305, 2320],\n",
              " (9, 2): [1417, 0],\n",
              " (7, 3): [315, 0],\n",
              " (6, 0): [631, 0],\n",
              " (8, 7): [491, 1964],\n",
              " (7, 13): [326, 2764],\n",
              " (8, 10): [155, 776],\n",
              " (6, 7): [630, 6320],\n",
              " (7, 5): [649, 1298],\n",
              " (8, 5): [805, 1610],\n",
              " (9, 5): [883, 1766],\n",
              " (6, 10): [645, 8049],\n",
              " (7, 8): [321, 1596],\n",
              " (7, 2): [305, 0],\n",
              " (8, 2): [470, 0],\n",
              " (8, 6): [145, 290],\n",
              " (9, 6): [145, 290]}"
            ]
          },
          "metadata": {},
          "execution_count": 95
        }
      ]
    },
    {
      "cell_type": "code",
      "source": [
        "for s,n_r in mc_cache.items():\n",
        "  print(s, n_r[1]/n_r[0])"
      ],
      "metadata": {
        "colab": {
          "base_uri": "https://localhost:8080/"
        },
        "id": "dK4zv9JxxCWD",
        "outputId": "35ed1c09-df09-48d4-d138-2e3537043131"
      },
      "execution_count": null,
      "outputs": [
        {
          "output_type": "stream",
          "name": "stdout",
          "text": [
            "(0, 25) 33.7648\n",
            "(1, 20) 28.458441818545964\n",
            "(2, 13) 17.85635359116022\n",
            "(3, 13) 17.85635359116022\n",
            "(4, 13) 17.85635359116022\n",
            "(5, 11) 14.121480289621882\n",
            "(6, 1) 0.0\n",
            "(7, 1) 0.0\n",
            "(8, 1) 0.0\n",
            "(9, 1) 0.0\n",
            "(1, 23) 31.067505492310765\n",
            "(2, 16) 20.723316912972084\n",
            "(3, 16) 20.723316912972084\n",
            "(4, 16) 20.723316912972084\n",
            "(5, 16) 20.765899122807017\n",
            "(6, 6) 10.001624695369618\n",
            "(7, 4) 2.0\n",
            "(8, 4) 2.0\n",
            "(9, 4) 2.0\n",
            "(6, 11) 13.536772777167947\n",
            "(7, 9) 5.021943573667712\n",
            "(8, 9) 5.0264623955431755\n",
            "(2, 19) 25.17039446929646\n",
            "(3, 19) 25.17039446929646\n",
            "(4, 19) 25.17039446929646\n",
            "(5, 17) 21.480352846832396\n",
            "(6, 12) 14.980551053484604\n",
            "(7, 7) 5.0077760497667185\n",
            "(2, 22) 27.23609490470634\n",
            "(3, 22) 27.23609490470634\n",
            "(4, 22) 27.23609490470634\n",
            "(5, 19) 22.847537138389367\n",
            "(6, 9) 12.473846153846154\n",
            "(7, 6) 4.0\n",
            "(8, 3) 0.0\n",
            "(9, 3) 0.0\n",
            "(8, 0) 0.0\n",
            "(9, 0) 0.0\n",
            "(5, 10) 13.601084430673897\n",
            "(6, 5) 9.0\n",
            "(7, 0) 0.0\n",
            "(5, 20) 23.620743034055728\n",
            "(6, 15) 16.75579598145286\n",
            "(7, 10) 7.044045676998369\n",
            "(6, 14) 15.267090620031796\n",
            "(7, 12) 7.60655737704918\n",
            "(9, 2) 0.0\n",
            "(7, 3) 0.0\n",
            "(6, 0) 0.0\n",
            "(8, 7) 4.0\n",
            "(7, 13) 8.478527607361963\n",
            "(8, 10) 5.006451612903226\n",
            "(6, 7) 10.031746031746032\n",
            "(7, 5) 2.0\n",
            "(8, 5) 2.0\n",
            "(9, 5) 2.0\n",
            "(6, 10) 12.47906976744186\n",
            "(7, 8) 4.97196261682243\n",
            "(7, 2) 0.0\n",
            "(8, 2) 0.0\n",
            "(8, 6) 2.0\n",
            "(9, 6) 2.0\n"
          ]
        }
      ]
    },
    {
      "cell_type": "markdown",
      "source": [
        "# TD(0)"
      ],
      "metadata": {
        "id": "u0y7UKwZ5i-x"
      }
    },
    {
      "cell_type": "code",
      "source": [
        "td_cache = {}\n",
        "# State: (# times, mean_value)\n",
        "for _ in range(100000):\n",
        "  state = (0, w_max)\n",
        "  # BUG WAS HERE!  Shouldn't be reset within the for loop\n",
        "  # td_cache[state] = 0\n",
        "  state_actions_reward = []\n",
        "  while not terminal_state(state)[0]:\n",
        "    action = opt_policy[state]\n",
        "    r = reward(state,action)\n",
        "    # Add that we saw this state and the reward\n",
        "    state_actions_reward.append((state, action, r))\n",
        "    states = possible_states(state, action)\n",
        "    next_state = random.choices([s[1] for s in states],\n",
        "                            weights=[s[0] for s in states])[0]\n",
        "\n",
        "    fmu = td_cache.get(next_state,0)\n",
        "    mu = td_cache.get(state,0)\n",
        "    td_cache[state] = mu + 0.01 * ((r + fmu) - mu)\n",
        "    state = next_state\n"
      ],
      "metadata": {
        "id": "_VgogMm4ycQW"
      },
      "execution_count": null,
      "outputs": []
    },
    {
      "cell_type": "code",
      "source": [
        "td_cache"
      ],
      "metadata": {
        "colab": {
          "base_uri": "https://localhost:8080/"
        },
        "id": "CYkhZcQJ5yrA",
        "outputId": "46cc06ff-adcc-4f44-ffaa-1506a6f833f0"
      },
      "execution_count": null,
      "outputs": [
        {
          "output_type": "execute_result",
          "data": {
            "text/plain": [
              "{(0, 25): 33.768606322549196,\n",
              " (1, 23): 31.313217565965772,\n",
              " (2, 16): 20.773975342438227,\n",
              " (3, 16): 20.79100155835655,\n",
              " (4, 16): 20.794893597156932,\n",
              " (5, 16): 20.655913587740336,\n",
              " (6, 6): 10.05867681881975,\n",
              " (7, 4): 1.9999999999999667,\n",
              " (8, 4): 1.9999999999999778,\n",
              " (9, 4): 1.999999999999989,\n",
              " (6, 11): 13.528255282951477,\n",
              " (7, 6): 3.999999999999978,\n",
              " (8, 0): 0.0,\n",
              " (9, 0): 0.0,\n",
              " (2, 22): 27.363951924768045,\n",
              " (3, 22): 27.34984203618286,\n",
              " (4, 22): 27.31075857027004,\n",
              " (5, 20): 23.765496185576175,\n",
              " (6, 10): 12.476990389418393,\n",
              " (7, 8): 5.062798640347908,\n",
              " (8, 2): 0.0,\n",
              " (9, 2): 0.0,\n",
              " (1, 20): 28.15584214655052,\n",
              " (2, 19): 25.115405028912136,\n",
              " (3, 19): 25.152019259694836,\n",
              " (4, 19): 25.20731360008003,\n",
              " (5, 17): 21.716490734415114,\n",
              " (6, 12): 14.958020065705785,\n",
              " (7, 7): 5.094352340081348,\n",
              " (2, 13): 17.629294773614912,\n",
              " (3, 13): 17.570440155509072,\n",
              " (4, 13): 17.506731623244896,\n",
              " (5, 11): 13.584458380167312,\n",
              " (8, 3): 0.0,\n",
              " (9, 3): 0.0,\n",
              " (7, 1): 0.0,\n",
              " (8, 1): 0.0,\n",
              " (9, 1): 0.0,\n",
              " (5, 10): 13.576864217529844,\n",
              " (6, 0): 0.0,\n",
              " (7, 0): 0.0,\n",
              " (6, 5): 8.999999999999911,\n",
              " (6, 1): 0.0,\n",
              " (5, 19): 23.011905547823062,\n",
              " (6, 9): 12.59276785219861,\n",
              " (6, 14): 15.272597352149468,\n",
              " (7, 9): 5.102985990848909,\n",
              " (8, 9): 5.054350201197679,\n",
              " (7, 3): 0.0,\n",
              " (6, 15): 16.79484404989476,\n",
              " (7, 13): 8.413553465439954,\n",
              " (8, 10): 4.865588864971548,\n",
              " (7, 10): 6.944758708835976,\n",
              " (8, 7): 3.999999999999978,\n",
              " (7, 12): 7.358733131266438,\n",
              " (8, 5): 1.9999999999999778,\n",
              " (9, 5): 1.999999999999989,\n",
              " (7, 5): 1.9999999999999667,\n",
              " (6, 7): 10.060886227857788,\n",
              " (7, 2): 0.0,\n",
              " (8, 6): 1.9999972918635736,\n",
              " (9, 6): 1.9999998448463499}"
            ]
          },
          "metadata": {},
          "execution_count": 139
        }
      ]
    },
    {
      "cell_type": "code",
      "source": [],
      "metadata": {
        "id": "jX4_QeRa_9eA"
      },
      "execution_count": null,
      "outputs": []
    }
  ]
}