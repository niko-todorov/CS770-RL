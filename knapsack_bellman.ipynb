{
 "nbformat": 4,
 "nbformat_minor": 0,
 "metadata": {
  "colab": {
   "provenance": []
  },
  "kernelspec": {
   "name": "python3",
   "language": "python",
   "display_name": "Python 3 (ipykernel)"
  },
  "language_info": {
   "name": "python"
  }
 },
 "cells": [
  {
   "cell_type": "markdown",
   "source": [
    "# Knapsack"
   ],
   "metadata": {
    "id": "aLQfjvRZ6d1K"
   }
  },
  {
   "cell_type": "code",
   "execution_count": 1,
   "metadata": {
    "id": "l0v_SQwpeZTf",
    "ExecuteTime": {
     "end_time": "2024-02-08T05:17:27.033262Z",
     "start_time": "2024-02-08T05:17:27.016863200Z"
    }
   },
   "outputs": [],
   "source": [
    "import random\n",
    "n = 100\n",
    "w_max = 250\n",
    "values = [random.randint(1,10) for _ in range(n)]\n",
    "weights = [random.randint(1,10) for _ in range(n)]"
   ]
  },
  {
   "cell_type": "code",
   "source": [
    "def available_actions(state):\n",
    "  return [0,1]\n",
    "\n",
    "def reward(state, action):\n",
    "  if action == 0:\n",
    "    return 0\n",
    "  return values[state[0]]\n",
    "\n",
    "def next_state(state, action):\n",
    "  item_ind = state[0]\n",
    "  if action == 0:\n",
    "    return (item_ind+1, state[1])\n",
    "  if action == 1:\n",
    "    return (item_ind+1, state[1] - weights[item_ind])\n",
    "\n",
    "\n",
    "def terminal_state(state):\n",
    "  if state[1] < 0:\n",
    "    return True, (-1000000, -1)\n",
    "  if state[0] >= len(values):\n",
    "    return True, (0, -1)\n",
    "  else:\n",
    "    return False, ()\n",
    "\n",
    "cache = {}\n",
    "def bellman(state):\n",
    "  is_terminal, term_return = terminal_state(state)\n",
    "  if is_terminal:\n",
    "    return term_return\n",
    "  if state in cache:\n",
    "    return cache[state]\n",
    "  best_value = None\n",
    "  best_action = None\n",
    "  for action in available_actions(state):\n",
    "    action_value = reward(state, action) + bellman(next_state(state,action))[0]\n",
    "    if best_value is None or action_value > best_value:\n",
    "      best_value = action_value\n",
    "      best_action = action\n",
    "  cache[state] = (best_value, best_action)\n",
    "  return best_value, best_action"
   ],
   "metadata": {
    "id": "CtMrdljve1e1",
    "ExecuteTime": {
     "end_time": "2024-02-08T05:17:27.062495100Z",
     "start_time": "2024-02-08T05:17:27.032260300Z"
    }
   },
   "execution_count": 2,
   "outputs": []
  },
  {
   "cell_type": "code",
   "source": [
    "start_state = (0, w_max)\n",
    "\n",
    "state = start_state\n",
    "\n",
    "actions = []\n",
    "for _ in range(n):\n",
    "  best_value, best_action = bellman(state)\n",
    "  actions.append(best_action)\n",
    "  state = next_state(state, best_action)"
   ],
   "metadata": {
    "id": "QoG_WxZa6imx",
    "ExecuteTime": {
     "end_time": "2024-02-08T05:17:27.137413300Z",
     "start_time": "2024-02-08T05:17:27.045817800Z"
    }
   },
   "execution_count": 3,
   "outputs": []
  },
  {
   "cell_type": "code",
   "source": [
    "actions"
   ],
   "metadata": {
    "colab": {
     "base_uri": "https://localhost:8080/"
    },
    "id": "UXXO8hSF6mA5",
    "outputId": "ff5e8f6d-c851-48bd-82e1-bd2deb6bd4e1",
    "ExecuteTime": {
     "end_time": "2024-02-08T05:17:32.900361400Z",
     "start_time": "2024-02-08T05:17:32.871904700Z"
    }
   },
   "execution_count": 4,
   "outputs": [
    {
     "data": {
      "text/plain": "[0,\n 1,\n 1,\n 1,\n 0,\n 0,\n 1,\n 0,\n 1,\n 0,\n 0,\n 1,\n 0,\n 0,\n 0,\n 0,\n 0,\n 1,\n 0,\n 1,\n 1,\n 0,\n 1,\n 1,\n 1,\n 0,\n 0,\n 0,\n 1,\n 0,\n 0,\n 1,\n 0,\n 1,\n 0,\n 1,\n 1,\n 1,\n 0,\n 0,\n 0,\n 0,\n 1,\n 1,\n 1,\n 1,\n 1,\n 1,\n 1,\n 1,\n 0,\n 1,\n 1,\n 0,\n 0,\n 1,\n 1,\n 1,\n 1,\n 0,\n 1,\n 0,\n 1,\n 0,\n 1,\n 0,\n 1,\n 0,\n 0,\n 1,\n 1,\n 1,\n 1,\n 0,\n 1,\n 0,\n 1,\n 0,\n 1,\n 0,\n 0,\n 0,\n 1,\n 1,\n 0,\n 1,\n 0,\n 0,\n 0,\n 1,\n 1,\n 1,\n 1,\n 1,\n 1,\n 1,\n 0,\n 0,\n 1,\n 1]"
     },
     "execution_count": 4,
     "metadata": {},
     "output_type": "execute_result"
    }
   ]
  },
  {
   "cell_type": "markdown",
   "source": [
    "# Egg Drop (WIP)"
   ],
   "metadata": {
    "id": "P0udMGrR6n1x"
   }
  },
  {
   "cell_type": "code",
   "source": [
    "def available_actions(state):\n",
    "  return range(1,state[0] + 1)\n",
    "\n",
    "def reward(state, action):\n",
    "  return -1\n",
    "\n",
    "def next_state(state, action):\n",
    "  surv_state = (state[0] - action, state[1])\n",
    "  break_state = (action - 1, state[1] - 1)\n",
    "  if bellman(surv_state)[0] < bellman(break_state)[0]:\n",
    "    return surv_state\n",
    "  else:\n",
    "    return break_state\n",
    "\n",
    "def terminal_state(state):\n",
    "  if state[0] == 0:\n",
    "    return True, (0, -1)\n",
    "  if state[1] == 0:\n",
    "    return True, (-10000000, -1)\n",
    "  else:\n",
    "    return False, ()\n",
    "\n",
    "cache = {}\n",
    "def bellman(state):\n",
    "  is_terminal, term_return = terminal_state(state)\n",
    "  if is_terminal:\n",
    "    return term_return\n",
    "  if state in cache:\n",
    "    return cache[state]\n",
    "  best_value = None\n",
    "  best_action = None\n",
    "  for action in available_actions(state):\n",
    "    action_value = reward(state, action) + bellman(next_state(state,action))[0]\n",
    "    if best_value is None or action_value > best_value:\n",
    "      best_value = action_value\n",
    "      best_action = action\n",
    "  cache[state] = (best_value, best_action)\n",
    "  return best_value, best_action"
   ],
   "metadata": {
    "id": "113kX8PP4qrK",
    "ExecuteTime": {
     "end_time": "2024-02-08T05:17:35.192933Z",
     "start_time": "2024-02-08T05:17:35.175395100Z"
    }
   },
   "execution_count": 5,
   "outputs": []
  },
  {
   "cell_type": "code",
   "source": [
    "start_state = (100, 5)\n",
    "\n",
    "state = start_state\n",
    "\n",
    "actions = []\n",
    "while not terminal_state(state)[0]:\n",
    "  best_value, best_action = bellman(state)\n",
    "  actions.append(best_action)\n",
    "  state = next_state(state, best_action)"
   ],
   "metadata": {
    "id": "2_YCYchV6V8v",
    "ExecuteTime": {
     "end_time": "2024-02-08T05:17:36.194389Z",
     "start_time": "2024-02-08T05:17:36.106711700Z"
    }
   },
   "execution_count": 6,
   "outputs": []
  },
  {
   "cell_type": "code",
   "source": [],
   "metadata": {
    "id": "q8rSpyhw7ksH",
    "ExecuteTime": {
     "end_time": "2024-02-08T05:17:40.246799Z",
     "start_time": "2024-02-08T05:17:40.195744500Z"
    }
   },
   "execution_count": 6,
   "outputs": []
  },
  {
   "cell_type": "code",
   "execution_count": null,
   "outputs": [],
   "source": [],
   "metadata": {
    "collapsed": false
   }
  }
 ]
}
